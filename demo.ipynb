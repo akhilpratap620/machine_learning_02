{
 "cells": [
  {
   "cell_type": "code",
   "execution_count": 17,
   "metadata": {},
   "outputs": [],
   "source": [
    "with open(\"requirements.txt\") as requirement_file:\n",
    "        requirement_list = requirement_file.readlines()"
   ]
  },
  {
   "cell_type": "code",
   "execution_count": 21,
   "metadata": {},
   "outputs": [],
   "source": [
    "from typing import List"
   ]
  },
  {
   "cell_type": "code",
   "execution_count": 18,
   "metadata": {},
   "outputs": [],
   "source": [
    "requirement_list\n",
    "[name.replace(\"\\n\" , \"\") for name in requirement_list]\n",
    "if \".e\" in requirement_list:\n",
    "    requirement_list.remove(\".e\")"
   ]
  },
  {
   "cell_type": "code",
   "execution_count": 19,
   "metadata": {},
   "outputs": [
    {
     "data": {
      "text/plain": [
       "['numpy\\n',\n",
       " 'Flask\\n',\n",
       " 'gunicorn\\n',\n",
       " 'sklearn\\n',\n",
       " 'pandas\\n',\n",
       " 'PyYAML\\n',\n",
       " 'evidently\\n',\n",
       " 'dill\\n',\n",
       " 'matplotlib\\n']"
      ]
     },
     "execution_count": 19,
     "metadata": {},
     "output_type": "execute_result"
    }
   ],
   "source": [
    "requirement_list"
   ]
  },
  {
   "cell_type": "code",
   "execution_count": 22,
   "metadata": {},
   "outputs": [],
   "source": [
    "def get_requirements_list() -> List[str]:\n",
    "    \"\"\"\n",
    "    Description: This function is going to return list of requirement\n",
    "    mention in requirements.txt file\n",
    "    return This function is going to return a list which contain name\n",
    "    of libraries mentioned in requirements.txt file\n",
    "    \"\"\"\n",
    "    with open(\"requirements.txt\") as requirement_file:\n",
    "        requirement_list = requirement_file.readlines()\n",
    "        requirement_list = [requirement_name.replace(\"\\n\", \"\") for requirement_name in requirement_list]\n",
    "        if \".e\" in requirement_list:\n",
    "            requirement_list.remove(\".e\")\n",
    "        return requirement_list"
   ]
  },
  {
   "cell_type": "code",
   "execution_count": 24,
   "metadata": {},
   "outputs": [
    {
     "data": {
      "text/plain": [
       "list"
      ]
     },
     "execution_count": 24,
     "metadata": {},
     "output_type": "execute_result"
    }
   ],
   "source": [
    "type(get_requirements_list())"
   ]
  },
  {
   "cell_type": "code",
   "execution_count": null,
   "metadata": {},
   "outputs": [],
   "source": [
    "download_url =\"\""
   ]
  }
 ],
 "metadata": {
  "kernelspec": {
   "display_name": "Python 3.7.0 (conda)",
   "language": "python",
   "name": "python3"
  },
  "language_info": {
   "codemirror_mode": {
    "name": "ipython",
    "version": 3
   },
   "file_extension": ".py",
   "mimetype": "text/x-python",
   "name": "python",
   "nbconvert_exporter": "python",
   "pygments_lexer": "ipython3",
   "version": "3.7.0"
  },
  "orig_nbformat": 4,
  "vscode": {
   "interpreter": {
    "hash": "8215747f4369601fc1b2378a7d146ffcd8de8bc187b4a41c5eb2c3f651619767"
   }
  }
 },
 "nbformat": 4,
 "nbformat_minor": 2
}
