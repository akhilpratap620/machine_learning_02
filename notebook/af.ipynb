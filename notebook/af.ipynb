{
 "cells": [
  {
   "cell_type": "code",
   "execution_count": 59,
   "metadata": {},
   "outputs": [],
   "source": [
    "\n",
    "import pandas as pd\n",
    "data = pd.read_csv(\"C:\\\\Users\\\\somit\\\\Downloads\\\\project_ineuron\\\\machine_learning_02\\Airfoil_prediction\\\\artifact\\data_ingestion\\\\2022-09-21-15-24-35\\\\raw_data\\\\airfoil_self_noise.csv\")"
   ]
  },
  {
   "cell_type": "code",
   "execution_count": 60,
   "metadata": {},
   "outputs": [
    {
     "data": {
      "text/html": [
       "<div>\n",
       "<style scoped>\n",
       "    .dataframe tbody tr th:only-of-type {\n",
       "        vertical-align: middle;\n",
       "    }\n",
       "\n",
       "    .dataframe tbody tr th {\n",
       "        vertical-align: top;\n",
       "    }\n",
       "\n",
       "    .dataframe thead th {\n",
       "        text-align: right;\n",
       "    }\n",
       "</style>\n",
       "<table border=\"1\" class=\"dataframe\">\n",
       "  <thead>\n",
       "    <tr style=\"text-align: right;\">\n",
       "      <th></th>\n",
       "      <th>Frequency</th>\n",
       "      <th>Angle of attack</th>\n",
       "      <th>Chord length</th>\n",
       "      <th>Free-stream velocity</th>\n",
       "      <th>Section side displacement thickness</th>\n",
       "      <th>Scaled Sound Pressure Level</th>\n",
       "    </tr>\n",
       "  </thead>\n",
       "  <tbody>\n",
       "    <tr>\n",
       "      <th>0</th>\n",
       "      <td>800</td>\n",
       "      <td>0.0</td>\n",
       "      <td>0.3048</td>\n",
       "      <td>71.3</td>\n",
       "      <td>0.002663</td>\n",
       "      <td>126.201</td>\n",
       "    </tr>\n",
       "    <tr>\n",
       "      <th>1</th>\n",
       "      <td>1000</td>\n",
       "      <td>0.0</td>\n",
       "      <td>0.3048</td>\n",
       "      <td>71.3</td>\n",
       "      <td>0.002663</td>\n",
       "      <td>125.201</td>\n",
       "    </tr>\n",
       "    <tr>\n",
       "      <th>2</th>\n",
       "      <td>1250</td>\n",
       "      <td>0.0</td>\n",
       "      <td>0.3048</td>\n",
       "      <td>71.3</td>\n",
       "      <td>0.002663</td>\n",
       "      <td>125.951</td>\n",
       "    </tr>\n",
       "    <tr>\n",
       "      <th>3</th>\n",
       "      <td>1600</td>\n",
       "      <td>0.0</td>\n",
       "      <td>0.3048</td>\n",
       "      <td>71.3</td>\n",
       "      <td>0.002663</td>\n",
       "      <td>127.591</td>\n",
       "    </tr>\n",
       "    <tr>\n",
       "      <th>4</th>\n",
       "      <td>2000</td>\n",
       "      <td>0.0</td>\n",
       "      <td>0.3048</td>\n",
       "      <td>71.3</td>\n",
       "      <td>0.002663</td>\n",
       "      <td>127.461</td>\n",
       "    </tr>\n",
       "  </tbody>\n",
       "</table>\n",
       "</div>"
      ],
      "text/plain": [
       "   Frequency  Angle of attack  Chord length  Free-stream velocity  \\\n",
       "0        800              0.0        0.3048                  71.3   \n",
       "1       1000              0.0        0.3048                  71.3   \n",
       "2       1250              0.0        0.3048                  71.3   \n",
       "3       1600              0.0        0.3048                  71.3   \n",
       "4       2000              0.0        0.3048                  71.3   \n",
       "\n",
       "   Section side displacement thickness  Scaled Sound Pressure Level  \n",
       "0                             0.002663                      126.201  \n",
       "1                             0.002663                      125.201  \n",
       "2                             0.002663                      125.951  \n",
       "3                             0.002663                      127.591  \n",
       "4                             0.002663                      127.461  "
      ]
     },
     "execution_count": 60,
     "metadata": {},
     "output_type": "execute_result"
    }
   ],
   "source": [
    "data.head()"
   ]
  },
  {
   "cell_type": "code",
   "execution_count": 61,
   "metadata": {},
   "outputs": [
    {
     "data": {
      "text/plain": [
       "(Index(['Frequency', 'Angle of attack', 'Chord length', 'Free-stream velocity',\n",
       "        'Section side displacement thickness', 'Scaled Sound Pressure Level'],\n",
       "       dtype='object'),\n",
       " array([dtype('int64'), dtype('float64'), dtype('float64'),\n",
       "        dtype('float64'), dtype('float64'), dtype('float64')], dtype=object))"
      ]
     },
     "execution_count": 61,
     "metadata": {},
     "output_type": "execute_result"
    }
   ],
   "source": [
    "data.dtypes.index  , data.dtypes.values"
   ]
  },
  {
   "cell_type": "code",
   "execution_count": 63,
   "metadata": {},
   "outputs": [
    {
     "data": {
      "text/plain": [
       "['int64', 'float64', 'float64', 'float64', 'float64', 'float64']"
      ]
     },
     "execution_count": 63,
     "metadata": {},
     "output_type": "execute_result"
    }
   ],
   "source": [
    "data_type =list(map(lambda x:str(x).replace(\"dtype('\" ,\"\").replace(\"')\" , \"\") ,data.dtypes.values))\n",
    "data_type"
   ]
  },
  {
   "cell_type": "code",
   "execution_count": 64,
   "metadata": {},
   "outputs": [
    {
     "data": {
      "text/plain": [
       "Index(['Frequency', 'Angle of attack', 'Chord length', 'Free-stream velocity',\n",
       "       'Section side displacement thickness', 'Scaled Sound Pressure Level'],\n",
       "      dtype='object')"
      ]
     },
     "execution_count": 64,
     "metadata": {},
     "output_type": "execute_result"
    }
   ],
   "source": [
    "column=data.columns\n",
    "column"
   ]
  },
  {
   "cell_type": "code",
   "execution_count": 23,
   "metadata": {},
   "outputs": [],
   "source": [
    "os.chdir(\"C:\\\\Users\\\\somit\\\\Downloads\\\\project_ineuron\\\\machine_learning_02\\\\notebook\")"
   ]
  },
  {
   "cell_type": "code",
   "execution_count": null,
   "metadata": {},
   "outputs": [],
   "source": []
  },
  {
   "cell_type": "code",
   "execution_count": 66,
   "metadata": {},
   "outputs": [],
   "source": [
    "def write_yaml(data):\n",
    "    \"\"\" A function to write YAML file\"\"\"\n",
    "    with open('schema_01.yaml', 'w') as f:\n",
    "        return yaml.dump(data, f)\n"
   ]
  },
  {
   "cell_type": "code",
   "execution_count": 65,
   "metadata": {},
   "outputs": [],
   "source": [
    "import yaml"
   ]
  },
  {
   "cell_type": "code",
   "execution_count": 56,
   "metadata": {},
   "outputs": [],
   "source": [
    "write_yaml(data=data)"
   ]
  },
  {
   "cell_type": "code",
   "execution_count": 35,
   "metadata": {},
   "outputs": [
    {
     "data": {
      "text/plain": [
       "'C:\\\\Users\\\\somit\\\\Downloads\\\\project_ineuron\\\\machine_learning_02\\\\notebook'"
      ]
     },
     "execution_count": 35,
     "metadata": {},
     "output_type": "execute_result"
    }
   ],
   "source": [
    "os.getcwd()"
   ]
  },
  {
   "cell_type": "code",
   "execution_count": 67,
   "metadata": {},
   "outputs": [],
   "source": [
    "data_zip = dict(zip(column , data_type))"
   ]
  },
  {
   "cell_type": "code",
   "execution_count": 68,
   "metadata": {},
   "outputs": [],
   "source": [
    "write_yaml(data=data)"
   ]
  },
  {
   "cell_type": "code",
   "execution_count": 69,
   "metadata": {},
   "outputs": [
    {
     "data": {
      "text/plain": [
       "{'Frequency': 'int64',\n",
       " 'Angle of attack': 'float64',\n",
       " 'Chord length': 'float64',\n",
       " 'Free-stream velocity': 'float64',\n",
       " 'Section side displacement thickness': 'float64',\n",
       " 'Scaled Sound Pressure Level': 'float64'}"
      ]
     },
     "execution_count": 69,
     "metadata": {},
     "output_type": "execute_result"
    }
   ],
   "source": [
    "data_zip"
   ]
  },
  {
   "cell_type": "code",
   "execution_count": null,
   "metadata": {},
   "outputs": [],
   "source": [
    "data_02 = dict(zip(key ,value))"
   ]
  },
  {
   "cell_type": "code",
   "execution_count": 43,
   "metadata": {},
   "outputs": [],
   "source": [
    "key = column \n",
    "value = data_zip\n",
    "data_02 = dict(zip(key ,value))"
   ]
  },
  {
   "cell_type": "code",
   "execution_count": 70,
   "metadata": {},
   "outputs": [],
   "source": [
    "data= {'column' : {'Frequency': 'int64',\n",
    " 'Angle of attack': 'float64',\n",
    " 'Chord length': 'float64',\n",
    " 'Free-stream velocity': 'float64',\n",
    " 'Section side displacement thickness': 'float64',\n",
    " 'Scaled Sound Pressure Level': 'float64'}}"
   ]
  },
  {
   "cell_type": "code",
   "execution_count": 55,
   "metadata": {},
   "outputs": [
    {
     "data": {
      "text/plain": [
       "{'column': {'Frequency': 'Frequency',\n",
       "  'Angle of attack': 'Angle of attack',\n",
       "  'Chord length': 'Chord length',\n",
       "  'Free-stream velocity': 'Free-stream velocity',\n",
       "  'Section side displacement thickness': 'Section side displacement thickness',\n",
       "  'Scaled Sound Pressure Level': 'Scaled Sound Pressure Level'}}"
      ]
     },
     "execution_count": 55,
     "metadata": {},
     "output_type": "execute_result"
    }
   ],
   "source": [
    "data"
   ]
  },
  {
   "cell_type": "code",
   "execution_count": null,
   "metadata": {},
   "outputs": [],
   "source": [
    "df['column name'].astype(int64)"
   ]
  },
  {
   "cell_type": "code",
   "execution_count": null,
   "metadata": {},
   "outputs": [],
   "source": [
    "data[column].astype(int64)"
   ]
  },
  {
   "cell_type": "code",
   "execution_count": 110,
   "metadata": {},
   "outputs": [
    {
     "ename": "NameError",
     "evalue": "name 'nan' is not defined",
     "output_type": "error",
     "traceback": [
      "\u001b[1;31m---------------------------------------------------------------------------\u001b[0m",
      "\u001b[1;31mNameError\u001b[0m                                 Traceback (most recent call last)",
      "\u001b[1;32m~\\AppData\\Local\\Temp\\ipykernel_19976\\4000844280.py\u001b[0m in \u001b[0;36m<module>\u001b[1;34m\u001b[0m\n\u001b[1;32m----> 1\u001b[1;33m \u001b[0mdata\u001b[0m\u001b[1;33m[\u001b[0m\u001b[0mdata\u001b[0m\u001b[1;33m[\u001b[0m\u001b[1;34m'dummy'\u001b[0m\u001b[1;33m]\u001b[0m\u001b[1;33m==\u001b[0m\u001b[0mnan\u001b[0m\u001b[1;33m]\u001b[0m\u001b[1;33m\u001b[0m\u001b[0m\n\u001b[0m",
      "\u001b[1;31mNameError\u001b[0m: name 'nan' is not defined"
     ]
    }
   ],
   "source": [
    "data[data['dummy']==nan]"
   ]
  },
  {
   "cell_type": "code",
   "execution_count": 82,
   "metadata": {},
   "outputs": [
    {
     "ename": "ValueError",
     "evalue": "Cannot convert float NaN to integer",
     "output_type": "error",
     "traceback": [
      "\u001b[1;31m---------------------------------------------------------------------------\u001b[0m",
      "\u001b[1;31mValueError\u001b[0m                                Traceback (most recent call last)",
      "\u001b[1;32m~\\AppData\\Local\\Temp\\ipykernel_19976\\956747320.py\u001b[0m in \u001b[0;36m<module>\u001b[1;34m\u001b[0m\n\u001b[0;32m      1\u001b[0m \u001b[1;32mfor\u001b[0m \u001b[0mcolumn\u001b[0m \u001b[1;32min\u001b[0m \u001b[0mdata\u001b[0m\u001b[1;33m.\u001b[0m\u001b[0mcolumns\u001b[0m\u001b[1;33m:\u001b[0m\u001b[1;33m\u001b[0m\u001b[0m\n\u001b[1;32m----> 2\u001b[1;33m     \u001b[0mdata\u001b[0m\u001b[1;33m[\u001b[0m\u001b[0mcolumn\u001b[0m\u001b[1;33m]\u001b[0m\u001b[1;33m.\u001b[0m\u001b[0mastype\u001b[0m\u001b[1;33m(\u001b[0m\u001b[1;34m'int64'\u001b[0m\u001b[1;33m)\u001b[0m\u001b[1;33m\u001b[0m\u001b[0m\n\u001b[0m",
      "\u001b[1;32mc:\\Users\\somit\\Downloads\\project_ineuron\\practise_project_1\\venv\\lib\\site-packages\\pandas\\core\\generic.py\u001b[0m in \u001b[0;36mastype\u001b[1;34m(self, dtype, copy, errors)\u001b[0m\n\u001b[0;32m   5546\u001b[0m         \u001b[1;32melse\u001b[0m\u001b[1;33m:\u001b[0m\u001b[1;33m\u001b[0m\u001b[0m\n\u001b[0;32m   5547\u001b[0m             \u001b[1;31m# else, only a single dtype is given\u001b[0m\u001b[1;33m\u001b[0m\u001b[1;33m\u001b[0m\u001b[0m\n\u001b[1;32m-> 5548\u001b[1;33m             \u001b[0mnew_data\u001b[0m \u001b[1;33m=\u001b[0m \u001b[0mself\u001b[0m\u001b[1;33m.\u001b[0m\u001b[0m_mgr\u001b[0m\u001b[1;33m.\u001b[0m\u001b[0mastype\u001b[0m\u001b[1;33m(\u001b[0m\u001b[0mdtype\u001b[0m\u001b[1;33m=\u001b[0m\u001b[0mdtype\u001b[0m\u001b[1;33m,\u001b[0m \u001b[0mcopy\u001b[0m\u001b[1;33m=\u001b[0m\u001b[0mcopy\u001b[0m\u001b[1;33m,\u001b[0m \u001b[0merrors\u001b[0m\u001b[1;33m=\u001b[0m\u001b[0merrors\u001b[0m\u001b[1;33m,\u001b[0m\u001b[1;33m)\u001b[0m\u001b[1;33m\u001b[0m\u001b[0m\n\u001b[0m\u001b[0;32m   5549\u001b[0m             \u001b[1;32mreturn\u001b[0m \u001b[0mself\u001b[0m\u001b[1;33m.\u001b[0m\u001b[0m_constructor\u001b[0m\u001b[1;33m(\u001b[0m\u001b[0mnew_data\u001b[0m\u001b[1;33m)\u001b[0m\u001b[1;33m.\u001b[0m\u001b[0m__finalize__\u001b[0m\u001b[1;33m(\u001b[0m\u001b[0mself\u001b[0m\u001b[1;33m,\u001b[0m \u001b[0mmethod\u001b[0m\u001b[1;33m=\u001b[0m\u001b[1;34m\"astype\"\u001b[0m\u001b[1;33m)\u001b[0m\u001b[1;33m\u001b[0m\u001b[0m\n\u001b[0;32m   5550\u001b[0m \u001b[1;33m\u001b[0m\u001b[0m\n",
      "\u001b[1;32mc:\\Users\\somit\\Downloads\\project_ineuron\\practise_project_1\\venv\\lib\\site-packages\\pandas\\core\\internals\\managers.py\u001b[0m in \u001b[0;36mastype\u001b[1;34m(self, dtype, copy, errors)\u001b[0m\n\u001b[0;32m    602\u001b[0m         \u001b[0mself\u001b[0m\u001b[1;33m,\u001b[0m \u001b[0mdtype\u001b[0m\u001b[1;33m,\u001b[0m \u001b[0mcopy\u001b[0m\u001b[1;33m:\u001b[0m \u001b[0mbool\u001b[0m \u001b[1;33m=\u001b[0m \u001b[1;32mFalse\u001b[0m\u001b[1;33m,\u001b[0m \u001b[0merrors\u001b[0m\u001b[1;33m:\u001b[0m \u001b[0mstr\u001b[0m \u001b[1;33m=\u001b[0m \u001b[1;34m\"raise\"\u001b[0m\u001b[1;33m\u001b[0m\u001b[0m\n\u001b[0;32m    603\u001b[0m     ) -> \"BlockManager\":\n\u001b[1;32m--> 604\u001b[1;33m         \u001b[1;32mreturn\u001b[0m \u001b[0mself\u001b[0m\u001b[1;33m.\u001b[0m\u001b[0mapply\u001b[0m\u001b[1;33m(\u001b[0m\u001b[1;34m\"astype\"\u001b[0m\u001b[1;33m,\u001b[0m \u001b[0mdtype\u001b[0m\u001b[1;33m=\u001b[0m\u001b[0mdtype\u001b[0m\u001b[1;33m,\u001b[0m \u001b[0mcopy\u001b[0m\u001b[1;33m=\u001b[0m\u001b[0mcopy\u001b[0m\u001b[1;33m,\u001b[0m \u001b[0merrors\u001b[0m\u001b[1;33m=\u001b[0m\u001b[0merrors\u001b[0m\u001b[1;33m)\u001b[0m\u001b[1;33m\u001b[0m\u001b[0m\n\u001b[0m\u001b[0;32m    605\u001b[0m \u001b[1;33m\u001b[0m\u001b[0m\n\u001b[0;32m    606\u001b[0m     def convert(\n",
      "\u001b[1;32mc:\\Users\\somit\\Downloads\\project_ineuron\\practise_project_1\\venv\\lib\\site-packages\\pandas\\core\\internals\\managers.py\u001b[0m in \u001b[0;36mapply\u001b[1;34m(self, f, align_keys, **kwargs)\u001b[0m\n\u001b[0;32m    407\u001b[0m                 \u001b[0mapplied\u001b[0m \u001b[1;33m=\u001b[0m \u001b[0mb\u001b[0m\u001b[1;33m.\u001b[0m\u001b[0mapply\u001b[0m\u001b[1;33m(\u001b[0m\u001b[0mf\u001b[0m\u001b[1;33m,\u001b[0m \u001b[1;33m**\u001b[0m\u001b[0mkwargs\u001b[0m\u001b[1;33m)\u001b[0m\u001b[1;33m\u001b[0m\u001b[0m\n\u001b[0;32m    408\u001b[0m             \u001b[1;32melse\u001b[0m\u001b[1;33m:\u001b[0m\u001b[1;33m\u001b[0m\u001b[0m\n\u001b[1;32m--> 409\u001b[1;33m                 \u001b[0mapplied\u001b[0m \u001b[1;33m=\u001b[0m \u001b[0mgetattr\u001b[0m\u001b[1;33m(\u001b[0m\u001b[0mb\u001b[0m\u001b[1;33m,\u001b[0m \u001b[0mf\u001b[0m\u001b[1;33m)\u001b[0m\u001b[1;33m(\u001b[0m\u001b[1;33m**\u001b[0m\u001b[0mkwargs\u001b[0m\u001b[1;33m)\u001b[0m\u001b[1;33m\u001b[0m\u001b[0m\n\u001b[0m\u001b[0;32m    410\u001b[0m             \u001b[0mresult_blocks\u001b[0m \u001b[1;33m=\u001b[0m \u001b[0m_extend_blocks\u001b[0m\u001b[1;33m(\u001b[0m\u001b[0mapplied\u001b[0m\u001b[1;33m,\u001b[0m \u001b[0mresult_blocks\u001b[0m\u001b[1;33m)\u001b[0m\u001b[1;33m\u001b[0m\u001b[0m\n\u001b[0;32m    411\u001b[0m \u001b[1;33m\u001b[0m\u001b[0m\n",
      "\u001b[1;32mc:\\Users\\somit\\Downloads\\project_ineuron\\practise_project_1\\venv\\lib\\site-packages\\pandas\\core\\internals\\blocks.py\u001b[0m in \u001b[0;36mastype\u001b[1;34m(self, dtype, copy, errors)\u001b[0m\n\u001b[0;32m    568\u001b[0m         \u001b[1;32mif\u001b[0m \u001b[0mself\u001b[0m\u001b[1;33m.\u001b[0m\u001b[0mis_extension\u001b[0m\u001b[1;33m:\u001b[0m\u001b[1;33m\u001b[0m\u001b[0m\n\u001b[0;32m    569\u001b[0m             \u001b[1;32mtry\u001b[0m\u001b[1;33m:\u001b[0m\u001b[1;33m\u001b[0m\u001b[0m\n\u001b[1;32m--> 570\u001b[1;33m                 \u001b[0mvalues\u001b[0m \u001b[1;33m=\u001b[0m \u001b[0mself\u001b[0m\u001b[1;33m.\u001b[0m\u001b[0mvalues\u001b[0m\u001b[1;33m.\u001b[0m\u001b[0mastype\u001b[0m\u001b[1;33m(\u001b[0m\u001b[0mdtype\u001b[0m\u001b[1;33m)\u001b[0m\u001b[1;33m\u001b[0m\u001b[0m\n\u001b[0m\u001b[0;32m    571\u001b[0m             \u001b[1;32mexcept\u001b[0m \u001b[1;33m(\u001b[0m\u001b[0mValueError\u001b[0m\u001b[1;33m,\u001b[0m \u001b[0mTypeError\u001b[0m\u001b[1;33m)\u001b[0m\u001b[1;33m:\u001b[0m\u001b[1;33m\u001b[0m\u001b[0m\n\u001b[0;32m    572\u001b[0m                 \u001b[1;32mif\u001b[0m \u001b[0merrors\u001b[0m \u001b[1;33m==\u001b[0m \u001b[1;34m\"ignore\"\u001b[0m\u001b[1;33m:\u001b[0m\u001b[1;33m\u001b[0m\u001b[0m\n",
      "\u001b[1;32mc:\\Users\\somit\\Downloads\\project_ineuron\\practise_project_1\\venv\\lib\\site-packages\\pandas\\core\\arrays\\categorical.py\u001b[0m in \u001b[0;36mastype\u001b[1;34m(self, dtype, copy)\u001b[0m\n\u001b[0;32m    475\u001b[0m             \u001b[1;32mreturn\u001b[0m \u001b[0marray\u001b[0m\u001b[1;33m(\u001b[0m\u001b[0mself\u001b[0m\u001b[1;33m,\u001b[0m \u001b[0mdtype\u001b[0m\u001b[1;33m=\u001b[0m\u001b[0mdtype\u001b[0m\u001b[1;33m,\u001b[0m \u001b[0mcopy\u001b[0m\u001b[1;33m=\u001b[0m\u001b[0mcopy\u001b[0m\u001b[1;33m)\u001b[0m\u001b[1;33m\u001b[0m\u001b[0m\n\u001b[0;32m    476\u001b[0m         \u001b[1;32mif\u001b[0m \u001b[0mis_integer_dtype\u001b[0m\u001b[1;33m(\u001b[0m\u001b[0mdtype\u001b[0m\u001b[1;33m)\u001b[0m \u001b[1;32mand\u001b[0m \u001b[0mself\u001b[0m\u001b[1;33m.\u001b[0m\u001b[0misna\u001b[0m\u001b[1;33m(\u001b[0m\u001b[1;33m)\u001b[0m\u001b[1;33m.\u001b[0m\u001b[0many\u001b[0m\u001b[1;33m(\u001b[0m\u001b[1;33m)\u001b[0m\u001b[1;33m:\u001b[0m\u001b[1;33m\u001b[0m\u001b[0m\n\u001b[1;32m--> 477\u001b[1;33m             \u001b[1;32mraise\u001b[0m \u001b[0mValueError\u001b[0m\u001b[1;33m(\u001b[0m\u001b[1;34m\"Cannot convert float NaN to integer\"\u001b[0m\u001b[1;33m)\u001b[0m\u001b[1;33m\u001b[0m\u001b[0m\n\u001b[0m\u001b[0;32m    478\u001b[0m         \u001b[1;32mreturn\u001b[0m \u001b[0mnp\u001b[0m\u001b[1;33m.\u001b[0m\u001b[0marray\u001b[0m\u001b[1;33m(\u001b[0m\u001b[0mself\u001b[0m\u001b[1;33m,\u001b[0m \u001b[0mdtype\u001b[0m\u001b[1;33m=\u001b[0m\u001b[0mdtype\u001b[0m\u001b[1;33m,\u001b[0m \u001b[0mcopy\u001b[0m\u001b[1;33m=\u001b[0m\u001b[0mcopy\u001b[0m\u001b[1;33m)\u001b[0m\u001b[1;33m\u001b[0m\u001b[0m\n\u001b[0;32m    479\u001b[0m \u001b[1;33m\u001b[0m\u001b[0m\n",
      "\u001b[1;31mValueError\u001b[0m: Cannot convert float NaN to integer"
     ]
    }
   ],
   "source": [
    "for column in data.columns:\n",
    "    data[column].astype('int64')"
   ]
  },
  {
   "cell_type": "code",
   "execution_count": 115,
   "metadata": {},
   "outputs": [
    {
     "ename": "AttributeError",
     "evalue": "'Series' object has no attribute 'fillNan'",
     "output_type": "error",
     "traceback": [
      "\u001b[1;31m---------------------------------------------------------------------------\u001b[0m",
      "\u001b[1;31mAttributeError\u001b[0m                            Traceback (most recent call last)",
      "\u001b[1;32m~\\AppData\\Local\\Temp\\ipykernel_19976\\2234790885.py\u001b[0m in \u001b[0;36m<module>\u001b[1;34m\u001b[0m\n\u001b[1;32m----> 1\u001b[1;33m \u001b[0mdata\u001b[0m\u001b[1;33m[\u001b[0m\u001b[1;34m'dummy'\u001b[0m\u001b[1;33m]\u001b[0m\u001b[1;33m.\u001b[0m\u001b[0mfillNan\u001b[0m\u001b[1;33m(\u001b[0m\u001b[1;36m0\u001b[0m\u001b[1;33m)\u001b[0m\u001b[1;33m\u001b[0m\u001b[0m\n\u001b[0m",
      "\u001b[1;32mc:\\Users\\somit\\Downloads\\project_ineuron\\practise_project_1\\venv\\lib\\site-packages\\pandas\\core\\generic.py\u001b[0m in \u001b[0;36m__getattr__\u001b[1;34m(self, name)\u001b[0m\n\u001b[0;32m   5139\u001b[0m             \u001b[1;32mif\u001b[0m \u001b[0mself\u001b[0m\u001b[1;33m.\u001b[0m\u001b[0m_info_axis\u001b[0m\u001b[1;33m.\u001b[0m\u001b[0m_can_hold_identifiers_and_holds_name\u001b[0m\u001b[1;33m(\u001b[0m\u001b[0mname\u001b[0m\u001b[1;33m)\u001b[0m\u001b[1;33m:\u001b[0m\u001b[1;33m\u001b[0m\u001b[0m\n\u001b[0;32m   5140\u001b[0m                 \u001b[1;32mreturn\u001b[0m \u001b[0mself\u001b[0m\u001b[1;33m[\u001b[0m\u001b[0mname\u001b[0m\u001b[1;33m]\u001b[0m\u001b[1;33m\u001b[0m\u001b[0m\n\u001b[1;32m-> 5141\u001b[1;33m             \u001b[1;32mreturn\u001b[0m \u001b[0mobject\u001b[0m\u001b[1;33m.\u001b[0m\u001b[0m__getattribute__\u001b[0m\u001b[1;33m(\u001b[0m\u001b[0mself\u001b[0m\u001b[1;33m,\u001b[0m \u001b[0mname\u001b[0m\u001b[1;33m)\u001b[0m\u001b[1;33m\u001b[0m\u001b[0m\n\u001b[0m\u001b[0;32m   5142\u001b[0m \u001b[1;33m\u001b[0m\u001b[0m\n\u001b[0;32m   5143\u001b[0m     \u001b[1;32mdef\u001b[0m \u001b[0m__setattr__\u001b[0m\u001b[1;33m(\u001b[0m\u001b[0mself\u001b[0m\u001b[1;33m,\u001b[0m \u001b[0mname\u001b[0m\u001b[1;33m:\u001b[0m \u001b[0mstr\u001b[0m\u001b[1;33m,\u001b[0m \u001b[0mvalue\u001b[0m\u001b[1;33m)\u001b[0m \u001b[1;33m->\u001b[0m \u001b[1;32mNone\u001b[0m\u001b[1;33m:\u001b[0m\u001b[1;33m\u001b[0m\u001b[0m\n",
      "\u001b[1;31mAttributeError\u001b[0m: 'Series' object has no attribute 'fillNan'"
     ]
    }
   ],
   "source": [
    "data['dummy'].fillNan(0)"
   ]
  },
  {
   "cell_type": "code",
   "execution_count": 117,
   "metadata": {},
   "outputs": [
    {
     "data": {
      "text/plain": [
       "[3, 2, 1, NaN]\n",
       "Categories (3, int64): [1 < 2 < 3]"
      ]
     },
     "execution_count": 117,
     "metadata": {},
     "output_type": "execute_result"
    }
   ],
   "source": [
    "data.dummy.unique()"
   ]
  },
  {
   "cell_type": "code",
   "execution_count": 114,
   "metadata": {},
   "outputs": [
    {
     "data": {
      "text/html": [
       "<div>\n",
       "<style scoped>\n",
       "    .dataframe tbody tr th:only-of-type {\n",
       "        vertical-align: middle;\n",
       "    }\n",
       "\n",
       "    .dataframe tbody tr th {\n",
       "        vertical-align: top;\n",
       "    }\n",
       "\n",
       "    .dataframe thead th {\n",
       "        text-align: right;\n",
       "    }\n",
       "</style>\n",
       "<table border=\"1\" class=\"dataframe\">\n",
       "  <thead>\n",
       "    <tr style=\"text-align: right;\">\n",
       "      <th></th>\n",
       "      <th>Frequency</th>\n",
       "      <th>Angle of attack</th>\n",
       "      <th>Chord length</th>\n",
       "      <th>Free-stream velocity</th>\n",
       "      <th>Section side displacement thickness</th>\n",
       "      <th>Scaled Sound Pressure Level</th>\n",
       "      <th>dummy</th>\n",
       "    </tr>\n",
       "  </thead>\n",
       "  <tbody>\n",
       "    <tr>\n",
       "      <th>48</th>\n",
       "      <td>200</td>\n",
       "      <td>0.0</td>\n",
       "      <td>0.3048</td>\n",
       "      <td>31.7</td>\n",
       "      <td>0.003313</td>\n",
       "      <td>117.195</td>\n",
       "      <td>NaN</td>\n",
       "    </tr>\n",
       "    <tr>\n",
       "      <th>49</th>\n",
       "      <td>250</td>\n",
       "      <td>0.0</td>\n",
       "      <td>0.3048</td>\n",
       "      <td>31.7</td>\n",
       "      <td>0.003313</td>\n",
       "      <td>118.595</td>\n",
       "      <td>NaN</td>\n",
       "    </tr>\n",
       "    <tr>\n",
       "      <th>50</th>\n",
       "      <td>315</td>\n",
       "      <td>0.0</td>\n",
       "      <td>0.3048</td>\n",
       "      <td>31.7</td>\n",
       "      <td>0.003313</td>\n",
       "      <td>122.765</td>\n",
       "      <td>NaN</td>\n",
       "    </tr>\n",
       "    <tr>\n",
       "      <th>51</th>\n",
       "      <td>400</td>\n",
       "      <td>0.0</td>\n",
       "      <td>0.3048</td>\n",
       "      <td>31.7</td>\n",
       "      <td>0.003313</td>\n",
       "      <td>125.045</td>\n",
       "      <td>NaN</td>\n",
       "    </tr>\n",
       "    <tr>\n",
       "      <th>52</th>\n",
       "      <td>500</td>\n",
       "      <td>0.0</td>\n",
       "      <td>0.3048</td>\n",
       "      <td>31.7</td>\n",
       "      <td>0.003313</td>\n",
       "      <td>127.315</td>\n",
       "      <td>NaN</td>\n",
       "    </tr>\n",
       "    <tr>\n",
       "      <th>...</th>\n",
       "      <td>...</td>\n",
       "      <td>...</td>\n",
       "      <td>...</td>\n",
       "      <td>...</td>\n",
       "      <td>...</td>\n",
       "      <td>...</td>\n",
       "      <td>...</td>\n",
       "    </tr>\n",
       "    <tr>\n",
       "      <th>1468</th>\n",
       "      <td>2500</td>\n",
       "      <td>12.3</td>\n",
       "      <td>0.1016</td>\n",
       "      <td>31.7</td>\n",
       "      <td>0.041876</td>\n",
       "      <td>110.317</td>\n",
       "      <td>NaN</td>\n",
       "    </tr>\n",
       "    <tr>\n",
       "      <th>1469</th>\n",
       "      <td>3150</td>\n",
       "      <td>12.3</td>\n",
       "      <td>0.1016</td>\n",
       "      <td>31.7</td>\n",
       "      <td>0.041876</td>\n",
       "      <td>110.307</td>\n",
       "      <td>NaN</td>\n",
       "    </tr>\n",
       "    <tr>\n",
       "      <th>1470</th>\n",
       "      <td>4000</td>\n",
       "      <td>12.3</td>\n",
       "      <td>0.1016</td>\n",
       "      <td>31.7</td>\n",
       "      <td>0.041876</td>\n",
       "      <td>108.407</td>\n",
       "      <td>NaN</td>\n",
       "    </tr>\n",
       "    <tr>\n",
       "      <th>1471</th>\n",
       "      <td>5000</td>\n",
       "      <td>12.3</td>\n",
       "      <td>0.1016</td>\n",
       "      <td>31.7</td>\n",
       "      <td>0.041876</td>\n",
       "      <td>107.147</td>\n",
       "      <td>NaN</td>\n",
       "    </tr>\n",
       "    <tr>\n",
       "      <th>1472</th>\n",
       "      <td>6300</td>\n",
       "      <td>12.3</td>\n",
       "      <td>0.1016</td>\n",
       "      <td>31.7</td>\n",
       "      <td>0.041876</td>\n",
       "      <td>107.267</td>\n",
       "      <td>NaN</td>\n",
       "    </tr>\n",
       "  </tbody>\n",
       "</table>\n",
       "<p>281 rows × 7 columns</p>\n",
       "</div>"
      ],
      "text/plain": [
       "      Frequency  Angle of attack  Chord length  Free-stream velocity  \\\n",
       "48          200              0.0        0.3048                  31.7   \n",
       "49          250              0.0        0.3048                  31.7   \n",
       "50          315              0.0        0.3048                  31.7   \n",
       "51          400              0.0        0.3048                  31.7   \n",
       "52          500              0.0        0.3048                  31.7   \n",
       "...         ...              ...           ...                   ...   \n",
       "1468       2500             12.3        0.1016                  31.7   \n",
       "1469       3150             12.3        0.1016                  31.7   \n",
       "1470       4000             12.3        0.1016                  31.7   \n",
       "1471       5000             12.3        0.1016                  31.7   \n",
       "1472       6300             12.3        0.1016                  31.7   \n",
       "\n",
       "      Section side displacement thickness  Scaled Sound Pressure Level dummy  \n",
       "48                               0.003313                      117.195   NaN  \n",
       "49                               0.003313                      118.595   NaN  \n",
       "50                               0.003313                      122.765   NaN  \n",
       "51                               0.003313                      125.045   NaN  \n",
       "52                               0.003313                      127.315   NaN  \n",
       "...                                   ...                          ...   ...  \n",
       "1468                             0.041876                      110.317   NaN  \n",
       "1469                             0.041876                      110.307   NaN  \n",
       "1470                             0.041876                      108.407   NaN  \n",
       "1471                             0.041876                      107.147   NaN  \n",
       "1472                             0.041876                      107.267   NaN  \n",
       "\n",
       "[281 rows x 7 columns]"
      ]
     },
     "execution_count": 114,
     "metadata": {},
     "output_type": "execute_result"
    }
   ],
   "source": [
    "data[data['dummy'].isna() ==True]"
   ]
  },
  {
   "cell_type": "code",
   "execution_count": 108,
   "metadata": {},
   "outputs": [
    {
     "data": {
      "text/plain": [
       "Frequency                                0\n",
       "Angle of attack                          0\n",
       "Chord length                             0\n",
       "Free-stream velocity                     0\n",
       "Section side displacement thickness      0\n",
       "Scaled Sound Pressure Level              0\n",
       "dummy                                  281\n",
       "dtype: int64"
      ]
     },
     "execution_count": 108,
     "metadata": {},
     "output_type": "execute_result"
    }
   ],
   "source": [
    "data.isna().sum()"
   ]
  },
  {
   "cell_type": "code",
   "execution_count": 88,
   "metadata": {},
   "outputs": [],
   "source": [
    "data['Frequency']=data.Frequency.astype('float64')"
   ]
  },
  {
   "cell_type": "code",
   "execution_count": 41,
   "metadata": {},
   "outputs": [
    {
     "data": {
      "text/plain": [
       "0     800.0\n",
       "1    1000.0\n",
       "2    1250.0\n",
       "3    1600.0\n",
       "4    2000.0\n",
       "Name: Frequency, dtype: float64"
      ]
     },
     "execution_count": 41,
     "metadata": {},
     "output_type": "execute_result"
    }
   ],
   "source": [
    "data.head()"
   ]
  },
  {
   "cell_type": "code",
   "execution_count": 118,
   "metadata": {},
   "outputs": [],
   "source": [
    " data['dummy']=pd.cut(data['Free-stream velocity'] , bins=[ 0.0,31.7, 39.6, 55.5,71.3] , labels=[1,2,3,4])"
   ]
  },
  {
   "cell_type": "code",
   "execution_count": 119,
   "metadata": {},
   "outputs": [],
   "source": [
    "from sklearn.model_selection import StratifiedShuffleSplit"
   ]
  },
  {
   "cell_type": "code",
   "execution_count": 120,
   "metadata": {},
   "outputs": [],
   "source": [
    "strat_train_set = None\n",
    "strat_test_set = None\n",
    "for train_index , test_index in split.split(data ,data[\"dummy\"]):\n",
    "                \n",
    "                strat_train_set = data.iloc[train_index].drop([\"dummy\"],axis =1)\n",
    "                strat_test_set = data.iloc[test_index].drop([\"dummy\"],axis =1)"
   ]
  },
  {
   "cell_type": "code",
   "execution_count": 121,
   "metadata": {},
   "outputs": [
    {
     "data": {
      "text/html": [
       "<div>\n",
       "<style scoped>\n",
       "    .dataframe tbody tr th:only-of-type {\n",
       "        vertical-align: middle;\n",
       "    }\n",
       "\n",
       "    .dataframe tbody tr th {\n",
       "        vertical-align: top;\n",
       "    }\n",
       "\n",
       "    .dataframe thead th {\n",
       "        text-align: right;\n",
       "    }\n",
       "</style>\n",
       "<table border=\"1\" class=\"dataframe\">\n",
       "  <thead>\n",
       "    <tr style=\"text-align: right;\">\n",
       "      <th></th>\n",
       "      <th>Frequency</th>\n",
       "      <th>Angle of attack</th>\n",
       "      <th>Chord length</th>\n",
       "      <th>Free-stream velocity</th>\n",
       "      <th>Section side displacement thickness</th>\n",
       "      <th>Scaled Sound Pressure Level</th>\n",
       "    </tr>\n",
       "  </thead>\n",
       "  <tbody>\n",
       "    <tr>\n",
       "      <th>1141</th>\n",
       "      <td>3150</td>\n",
       "      <td>12.7</td>\n",
       "      <td>0.0254</td>\n",
       "      <td>39.6</td>\n",
       "      <td>0.013025</td>\n",
       "      <td>127.847</td>\n",
       "    </tr>\n",
       "    <tr>\n",
       "      <th>167</th>\n",
       "      <td>3150</td>\n",
       "      <td>4.0</td>\n",
       "      <td>0.3048</td>\n",
       "      <td>71.3</td>\n",
       "      <td>0.004978</td>\n",
       "      <td>121.775</td>\n",
       "    </tr>\n",
       "    <tr>\n",
       "      <th>269</th>\n",
       "      <td>5000</td>\n",
       "      <td>2.0</td>\n",
       "      <td>0.2286</td>\n",
       "      <td>55.5</td>\n",
       "      <td>0.003135</td>\n",
       "      <td>120.472</td>\n",
       "    </tr>\n",
       "    <tr>\n",
       "      <th>576</th>\n",
       "      <td>2000</td>\n",
       "      <td>5.4</td>\n",
       "      <td>0.1524</td>\n",
       "      <td>39.6</td>\n",
       "      <td>0.004850</td>\n",
       "      <td>124.647</td>\n",
       "    </tr>\n",
       "    <tr>\n",
       "      <th>1025</th>\n",
       "      <td>8000</td>\n",
       "      <td>4.8</td>\n",
       "      <td>0.0254</td>\n",
       "      <td>55.5</td>\n",
       "      <td>0.000873</td>\n",
       "      <td>132.184</td>\n",
       "    </tr>\n",
       "  </tbody>\n",
       "</table>\n",
       "</div>"
      ],
      "text/plain": [
       "      Frequency  Angle of attack  Chord length  Free-stream velocity  \\\n",
       "1141       3150             12.7        0.0254                  39.6   \n",
       "167        3150              4.0        0.3048                  71.3   \n",
       "269        5000              2.0        0.2286                  55.5   \n",
       "576        2000              5.4        0.1524                  39.6   \n",
       "1025       8000              4.8        0.0254                  55.5   \n",
       "\n",
       "      Section side displacement thickness  Scaled Sound Pressure Level  \n",
       "1141                             0.013025                      127.847  \n",
       "167                              0.004978                      121.775  \n",
       "269                              0.003135                      120.472  \n",
       "576                              0.004850                      124.647  \n",
       "1025                             0.000873                      132.184  "
      ]
     },
     "execution_count": 121,
     "metadata": {},
     "output_type": "execute_result"
    }
   ],
   "source": [
    "\n",
    "strat_train_set.head()"
   ]
  },
  {
   "cell_type": "code",
   "execution_count": 25,
   "metadata": {},
   "outputs": [
    {
     "ename": "IndentationError",
     "evalue": "unexpected indent (685869171.py, line 4)",
     "output_type": "error",
     "traceback": [
      "\u001b[1;36m  File \u001b[1;32m\"C:\\Users\\somit\\AppData\\Local\\Temp\\ipykernel_19976\\685869171.py\"\u001b[1;36m, line \u001b[1;32m4\u001b[0m\n\u001b[1;33m    logging.info(f\"spliting the data into train test\")\u001b[0m\n\u001b[1;37m    ^\u001b[0m\n\u001b[1;31mIndentationError\u001b[0m\u001b[1;31m:\u001b[0m unexpected indent\n"
     ]
    }
   ],
   "source": [
    " Airfoil_data_frame['dummy']=pd.cut(Airfoil_data_frame['Free-stream velocity'] , bins=[ 31.7, 39.6, 55.5,71.3] , labels=[1,2,3])\n",
    "\n",
    "            \n",
    "            logging.info(f\"spliting the data into train test\")\n",
    "\n",
    "            split =StratifiedShuffleSplit(n_splits =1,test_size =0.2 ,random_state =42)\n",
    "            \n",
    "            \n",
    "            for train_index , test_index in split.split(Airfoil_data_frame ,Airfoil_data_frame[\"dummy\"]):\n",
    "                \n",
    "                strat_train_set = Airfoil_data_frame.loc[train_index].drop([\"dummy\"],axis =1)\n",
    "                strat_test_set = Airfoil_data_frame.loc[test_index].drop([\"dummy\"],axis =1)\n",
    "\n",
    "                "
   ]
  },
  {
   "cell_type": "code",
   "execution_count": 26,
   "metadata": {},
   "outputs": [],
   "source": [
    "from sklearn.model_selection import train_test_split"
   ]
  },
  {
   "cell_type": "code",
   "execution_count": 98,
   "metadata": {},
   "outputs": [
    {
     "ename": "AttributeError",
     "evalue": "'function' object has no attribute 'head'",
     "output_type": "error",
     "traceback": [
      "\u001b[1;31m---------------------------------------------------------------------------\u001b[0m",
      "\u001b[1;31mAttributeError\u001b[0m                            Traceback (most recent call last)",
      "\u001b[1;32m~\\AppData\\Local\\Temp\\ipykernel_19976\\4020463773.py\u001b[0m in \u001b[0;36m<module>\u001b[1;34m\u001b[0m\n\u001b[1;32m----> 1\u001b[1;33m \u001b[0mtrain_test_split\u001b[0m\u001b[1;33m.\u001b[0m\u001b[0mhead\u001b[0m\u001b[1;33m(\u001b[0m\u001b[1;33m)\u001b[0m\u001b[1;33m\u001b[0m\u001b[0m\n\u001b[0m",
      "\u001b[1;31mAttributeError\u001b[0m: 'function' object has no attribute 'head'"
     ]
    }
   ],
   "source": [
    "train_test_split.head()"
   ]
  },
  {
   "cell_type": "code",
   "execution_count": 19,
   "metadata": {},
   "outputs": [
    {
     "data": {
      "text/plain": [
       "Frequency                              True\n",
       "Angle of attack                        True\n",
       "Chord length                           True\n",
       "Free-stream velocity                   True\n",
       "Section side displacement thickness    True\n",
       "Scaled Sound Pressure Level            True\n",
       "dtype: bool"
      ]
     },
     "execution_count": 19,
     "metadata": {},
     "output_type": "execute_result"
    }
   ],
   "source": [
    "np.isfinite(data.all())"
   ]
  },
  {
   "cell_type": "code",
   "execution_count": 17,
   "metadata": {},
   "outputs": [
    {
     "data": {
      "text/plain": [
       "Frequency                              True\n",
       "Angle of attack                        True\n",
       "Chord length                           True\n",
       "Free-stream velocity                   True\n",
       "Section side displacement thickness    True\n",
       "Scaled Sound Pressure Level            True\n",
       "dtype: bool"
      ]
     },
     "execution_count": 17,
     "metadata": {},
     "output_type": "execute_result"
    }
   ],
   "source": [
    "np.isfinite(data).all()"
   ]
  },
  {
   "cell_type": "code",
   "execution_count": 13,
   "metadata": {},
   "outputs": [],
   "source": [
    "import numpy as np"
   ]
  },
  {
   "cell_type": "code",
   "execution_count": 12,
   "metadata": {},
   "outputs": [
    {
     "data": {
      "text/plain": [
       "Frequency                              0\n",
       "Angle of attack                        0\n",
       "Chord length                           0\n",
       "Free-stream velocity                   0\n",
       "Section side displacement thickness    0\n",
       "Scaled Sound Pressure Level            0\n",
       "dtype: int64"
      ]
     },
     "execution_count": 12,
     "metadata": {},
     "output_type": "execute_result"
    }
   ],
   "source": [
    "data.isnull().sum()"
   ]
  },
  {
   "cell_type": "code",
   "execution_count": 8,
   "metadata": {},
   "outputs": [
    {
     "data": {
      "text/html": [
       "<div>\n",
       "<style scoped>\n",
       "    .dataframe tbody tr th:only-of-type {\n",
       "        vertical-align: middle;\n",
       "    }\n",
       "\n",
       "    .dataframe tbody tr th {\n",
       "        vertical-align: top;\n",
       "    }\n",
       "\n",
       "    .dataframe thead th {\n",
       "        text-align: right;\n",
       "    }\n",
       "</style>\n",
       "<table border=\"1\" class=\"dataframe\">\n",
       "  <thead>\n",
       "    <tr style=\"text-align: right;\">\n",
       "      <th></th>\n",
       "      <th>a</th>\n",
       "      <th>b</th>\n",
       "      <th>c</th>\n",
       "      <th>d</th>\n",
       "      <th>e</th>\n",
       "      <th>f</th>\n",
       "    </tr>\n",
       "  </thead>\n",
       "  <tbody>\n",
       "    <tr>\n",
       "      <th>0</th>\n",
       "      <td>800</td>\n",
       "      <td>0.0</td>\n",
       "      <td>0.3048</td>\n",
       "      <td>71.3</td>\n",
       "      <td>0.002663</td>\n",
       "      <td>126.201</td>\n",
       "    </tr>\n",
       "    <tr>\n",
       "      <th>1</th>\n",
       "      <td>1000</td>\n",
       "      <td>0.0</td>\n",
       "      <td>0.3048</td>\n",
       "      <td>71.3</td>\n",
       "      <td>0.002663</td>\n",
       "      <td>125.201</td>\n",
       "    </tr>\n",
       "    <tr>\n",
       "      <th>2</th>\n",
       "      <td>1250</td>\n",
       "      <td>0.0</td>\n",
       "      <td>0.3048</td>\n",
       "      <td>71.3</td>\n",
       "      <td>0.002663</td>\n",
       "      <td>125.951</td>\n",
       "    </tr>\n",
       "    <tr>\n",
       "      <th>3</th>\n",
       "      <td>1600</td>\n",
       "      <td>0.0</td>\n",
       "      <td>0.3048</td>\n",
       "      <td>71.3</td>\n",
       "      <td>0.002663</td>\n",
       "      <td>127.591</td>\n",
       "    </tr>\n",
       "    <tr>\n",
       "      <th>4</th>\n",
       "      <td>2000</td>\n",
       "      <td>0.0</td>\n",
       "      <td>0.3048</td>\n",
       "      <td>71.3</td>\n",
       "      <td>0.002663</td>\n",
       "      <td>127.461</td>\n",
       "    </tr>\n",
       "    <tr>\n",
       "      <th>...</th>\n",
       "      <td>...</td>\n",
       "      <td>...</td>\n",
       "      <td>...</td>\n",
       "      <td>...</td>\n",
       "      <td>...</td>\n",
       "      <td>...</td>\n",
       "    </tr>\n",
       "    <tr>\n",
       "      <th>1498</th>\n",
       "      <td>2500</td>\n",
       "      <td>15.6</td>\n",
       "      <td>0.1016</td>\n",
       "      <td>39.6</td>\n",
       "      <td>0.052849</td>\n",
       "      <td>110.264</td>\n",
       "    </tr>\n",
       "    <tr>\n",
       "      <th>1499</th>\n",
       "      <td>3150</td>\n",
       "      <td>15.6</td>\n",
       "      <td>0.1016</td>\n",
       "      <td>39.6</td>\n",
       "      <td>0.052849</td>\n",
       "      <td>109.254</td>\n",
       "    </tr>\n",
       "    <tr>\n",
       "      <th>1500</th>\n",
       "      <td>4000</td>\n",
       "      <td>15.6</td>\n",
       "      <td>0.1016</td>\n",
       "      <td>39.6</td>\n",
       "      <td>0.052849</td>\n",
       "      <td>106.604</td>\n",
       "    </tr>\n",
       "    <tr>\n",
       "      <th>1501</th>\n",
       "      <td>5000</td>\n",
       "      <td>15.6</td>\n",
       "      <td>0.1016</td>\n",
       "      <td>39.6</td>\n",
       "      <td>0.052849</td>\n",
       "      <td>106.224</td>\n",
       "    </tr>\n",
       "    <tr>\n",
       "      <th>1502</th>\n",
       "      <td>6300</td>\n",
       "      <td>15.6</td>\n",
       "      <td>0.1016</td>\n",
       "      <td>39.6</td>\n",
       "      <td>0.052849</td>\n",
       "      <td>104.204</td>\n",
       "    </tr>\n",
       "  </tbody>\n",
       "</table>\n",
       "<p>1503 rows × 6 columns</p>\n",
       "</div>"
      ],
      "text/plain": [
       "         a     b       c     d         e        f\n",
       "0      800   0.0  0.3048  71.3  0.002663  126.201\n",
       "1     1000   0.0  0.3048  71.3  0.002663  125.201\n",
       "2     1250   0.0  0.3048  71.3  0.002663  125.951\n",
       "3     1600   0.0  0.3048  71.3  0.002663  127.591\n",
       "4     2000   0.0  0.3048  71.3  0.002663  127.461\n",
       "...    ...   ...     ...   ...       ...      ...\n",
       "1498  2500  15.6  0.1016  39.6  0.052849  110.264\n",
       "1499  3150  15.6  0.1016  39.6  0.052849  109.254\n",
       "1500  4000  15.6  0.1016  39.6  0.052849  106.604\n",
       "1501  5000  15.6  0.1016  39.6  0.052849  106.224\n",
       "1502  6300  15.6  0.1016  39.6  0.052849  104.204\n",
       "\n",
       "[1503 rows x 6 columns]"
      ]
     },
     "execution_count": 8,
     "metadata": {},
     "output_type": "execute_result"
    }
   ],
   "source": [
    "pd.read_csv(\"C:\\\\Users\\\\somit\\\\Downloads\\\\project_ineuron\\\\machine_learning_02\\\\notebook\\\\raw_data\\\\airfoil_self_noise.csv\")"
   ]
  },
  {
   "cell_type": "code",
   "execution_count": 3,
   "metadata": {},
   "outputs": [],
   "source": [
    "import pandas as pd"
   ]
  },
  {
   "cell_type": "code",
   "execution_count": 2,
   "metadata": {},
   "outputs": [],
   "source": [
    "os.chdir(\"C:\\\\Users\\somit\\Downloads\\project_ineuron\\machine_learning_02\")"
   ]
  },
  {
   "cell_type": "code",
   "execution_count": 3,
   "metadata": {},
   "outputs": [],
   "source": [
    "from Airfoil_prediction.config.configuration import Configuration\n"
   ]
  },
  {
   "cell_type": "code",
   "execution_count": 4,
   "metadata": {},
   "outputs": [],
   "source": [
    "from Airfoil_prediction.constant import *"
   ]
  },
  {
   "cell_type": "code",
   "execution_count": 6,
   "metadata": {},
   "outputs": [],
   "source": [
    "con = Configuration()"
   ]
  },
  {
   "cell_type": "code",
   "execution_count": 7,
   "metadata": {},
   "outputs": [
    {
     "data": {
      "text/plain": [
       "'C:\\\\Users\\\\somit\\\\Downloads\\\\project_ineuron\\\\machine_learning_02\\\\Airfoil_prediction\\\\artifact'"
      ]
     },
     "execution_count": 7,
     "metadata": {},
     "output_type": "execute_result"
    }
   ],
   "source": [
    "con.get_training_pipeline_config().artifact_dir"
   ]
  },
  {
   "cell_type": "code",
   "execution_count": null,
   "metadata": {},
   "outputs": [],
   "source": []
  },
  {
   "cell_type": "code",
   "execution_count": 8,
   "metadata": {},
   "outputs": [
    {
     "data": {
      "text/plain": [
       "TrainingPipelineConfig(artifact_dir='C:\\\\Users\\\\somit\\\\Downloads\\\\project_ineuron\\\\machine_learning_02\\\\Airfoil_prediction\\\\artifact')"
      ]
     },
     "execution_count": 8,
     "metadata": {},
     "output_type": "execute_result"
    }
   ],
   "source": [
    "con.get_training_pipeline_config()"
   ]
  },
  {
   "cell_type": "code",
   "execution_count": 15,
   "metadata": {},
   "outputs": [],
   "source": [
    "os.chdir(\"C:\\\\Users\\somit\\Downloads\\project_ineuron\\machine_learning_02\")"
   ]
  },
  {
   "cell_type": "code",
   "execution_count": 6,
   "metadata": {},
   "outputs": [],
   "source": [
    "from Airfoil_prediction.exception import FailureException"
   ]
  },
  {
   "cell_type": "code",
   "execution_count": 9,
   "metadata": {},
   "outputs": [
    {
     "data": {
      "text/plain": [
       "DataIngestionConfig(dataset_download_url='https://raw.githubusercontent.com/ageron/handson-ml/master/datasets/housing/housing.tgz', tgz_download_dir='C:\\\\Users\\\\somit\\\\Downloads\\\\project_ineuron\\\\machine_learning_02\\\\Airfoil_prediction\\\\artifact\\\\data_ingestion\\\\2022-09-06-16-40-58\\\\tgz_data', raw_data_dir='C:\\\\Users\\\\somit\\\\Downloads\\\\project_ineuron\\\\machine_learning_02\\\\Airfoil_prediction\\\\artifact\\\\data_ingestion\\\\2022-09-06-16-40-58\\\\raw_data', ingested_train_dir='C:\\\\Users\\\\somit\\\\Downloads\\\\project_ineuron\\\\machine_learning_02\\\\Airfoil_prediction\\\\artifact\\\\data_ingestion\\\\2022-09-06-16-40-58\\\\ingested_data\\\\train', ingested_test_dir='C:\\\\Users\\\\somit\\\\Downloads\\\\project_ineuron\\\\machine_learning_02\\\\Airfoil_prediction\\\\artifact\\\\data_ingestion\\\\2022-09-06-16-40-58\\\\ingested_data\\\\test')"
      ]
     },
     "execution_count": 9,
     "metadata": {},
     "output_type": "execute_result"
    }
   ],
   "source": [
    "con.get_data_ingestion_config()"
   ]
  },
  {
   "cell_type": "code",
   "execution_count": null,
   "metadata": {},
   "outputs": [],
   "source": []
  },
  {
   "cell_type": "code",
   "execution_count": 13,
   "metadata": {},
   "outputs": [],
   "source": [
    "os.chdir(\"C:\\\\Users\\somit\\Downloads\\project_ineuron\\machine_learning_02\")\n",
    "root_dir=os.getcwd()"
   ]
  },
  {
   "cell_type": "code",
   "execution_count": 14,
   "metadata": {},
   "outputs": [],
   "source": [
    "cofig_file_path = os.path.join(\"config\" , \"config.yaml\")"
   ]
  },
  {
   "cell_type": "code",
   "execution_count": 15,
   "metadata": {},
   "outputs": [
    {
     "data": {
      "text/plain": [
       "'C:\\\\Users\\\\somit\\\\Downloads\\\\project_ineuron\\\\machine_learning_02'"
      ]
     },
     "execution_count": 15,
     "metadata": {},
     "output_type": "execute_result"
    }
   ],
   "source": [
    "root_dir"
   ]
  },
  {
   "cell_type": "code",
   "execution_count": 16,
   "metadata": {},
   "outputs": [],
   "source": [
    "file_path =os.path.join(root_dir , cofig_file_path)"
   ]
  },
  {
   "cell_type": "code",
   "execution_count": 29,
   "metadata": {},
   "outputs": [
    {
     "data": {
      "text/plain": [
       "'C:\\\\Users\\\\somit\\\\Downloads\\\\project_ineuron\\\\machine_learning_02\\\\config\\\\config.yaml'"
      ]
     },
     "execution_count": 29,
     "metadata": {},
     "output_type": "execute_result"
    }
   ],
   "source": [
    "file_path"
   ]
  },
  {
   "cell_type": "code",
   "execution_count": 17,
   "metadata": {},
   "outputs": [
    {
     "data": {
      "text/plain": [
       "True"
      ]
     },
     "execution_count": 17,
     "metadata": {},
     "output_type": "execute_result"
    }
   ],
   "source": [
    "os.path.exists(cofig_file_path)"
   ]
  },
  {
   "cell_type": "code",
   "execution_count": null,
   "metadata": {},
   "outputs": [],
   "source": []
  },
  {
   "cell_type": "code",
   "execution_count": 18,
   "metadata": {},
   "outputs": [],
   "source": [
    "\n",
    "def read_yaml(file_path:str)->dict:\n",
    "    try:\n",
    "\n",
    "        with open(file_path ,\"rb\") as yaml_file:\n",
    "            yaml.safe_load(yaml_file)\n",
    "    except Exception as e:\n",
    "        raise FailureException(e, sys) from e\n",
    "\n",
    "\n"
   ]
  },
  {
   "cell_type": "code",
   "execution_count": 21,
   "metadata": {},
   "outputs": [],
   "source": [
    "config_info =None\n",
    "with open(file_path ,\"rb\") as f:\n",
    "\n",
    "    config_info = yaml.safe_load(f)\n"
   ]
  },
  {
   "cell_type": "code",
   "execution_count": 20,
   "metadata": {},
   "outputs": [],
   "source": [
    "import yaml"
   ]
  },
  {
   "cell_type": "code",
   "execution_count": 24,
   "metadata": {},
   "outputs": [
    {
     "data": {
      "text/plain": [
       "{'dataset_download_url': 'https://raw.githubusercontent.com/ageron/handson-ml/master/datasets/housing/housing.tgz',\n",
       " 'raw_data_dir': 'raw_data',\n",
       " 'tgz_download_dir': 'tgz_data',\n",
       " 'ingested_dir': 'ingested_data',\n",
       " 'ingested_train_dir': 'train',\n",
       " 'ingested_test_dir': 'test'}"
      ]
     },
     "execution_count": 24,
     "metadata": {},
     "output_type": "execute_result"
    }
   ],
   "source": [
    "\n",
    "\n",
    "config_info[DATA_INGESTION_CONFIG_KEY]"
   ]
  },
  {
   "cell_type": "code",
   "execution_count": 34,
   "metadata": {},
   "outputs": [
    {
     "data": {
      "text/plain": [
       "{'dataset_download_url': 'https://raw.githubusercontent.com/ageron/handson-ml/master/datasets/housing/housing.tgz',\n",
       " 'raw_data_dir': 'raw_data',\n",
       " 'tgz_download_dir': 'tgz_data',\n",
       " 'ingested_dir': 'ingested_data',\n",
       " 'ingested_train_dir': 'train',\n",
       " 'ingested_test_dir': 'test'}"
      ]
     },
     "execution_count": 34,
     "metadata": {},
     "output_type": "execute_result"
    }
   ],
   "source": [
    "config_info['data_ingestion_config']"
   ]
  },
  {
   "cell_type": "code",
   "execution_count": 1,
   "metadata": {},
   "outputs": [],
   "source": [
    "download_url =\"https://archive.ics.uci.edu/ml/machine-learning-databases/00291/airfoil_self_noise.dat\""
   ]
  },
  {
   "cell_type": "code",
   "execution_count": 2,
   "metadata": {},
   "outputs": [
    {
     "data": {
      "text/plain": [
       "'airfoil_self_noise.dat'"
      ]
     },
     "execution_count": 2,
     "metadata": {},
     "output_type": "execute_result"
    }
   ],
   "source": [
    "os.path.basename(download_url)"
   ]
  },
  {
   "cell_type": "code",
   "execution_count": 4,
   "metadata": {},
   "outputs": [],
   "source": [
    "tgz_file_path = os.path.join(\"airfoil_data\" ,\"airfoil_self_noise.dat\")"
   ]
  },
  {
   "cell_type": "code",
   "execution_count": 6,
   "metadata": {},
   "outputs": [],
   "source": [
    "from six.moves import urllib"
   ]
  },
  {
   "cell_type": "code",
   "execution_count": 9,
   "metadata": {},
   "outputs": [
    {
     "data": {
      "text/plain": [
       "'c:\\\\Users\\\\somit\\\\Downloads\\\\project_ineuron\\\\machine_learning_02\\\\notebook'"
      ]
     },
     "execution_count": 9,
     "metadata": {},
     "output_type": "execute_result"
    }
   ],
   "source": [
    "os.getcwd()"
   ]
  },
  {
   "cell_type": "code",
   "execution_count": 12,
   "metadata": {},
   "outputs": [
    {
     "ename": "SyntaxError",
     "evalue": "'return' outside function (2437607148.py, line 2)",
     "output_type": "error",
     "traceback": [
      "\u001b[1;36m  File \u001b[1;32m\"C:\\Users\\somit\\AppData\\Local\\Temp\\ipykernel_11808\\2437607148.py\"\u001b[1;36m, line \u001b[1;32m2\u001b[0m\n\u001b[1;33m    return tgz_file_path\u001b[0m\n\u001b[1;37m                        ^\u001b[0m\n\u001b[1;31mSyntaxError\u001b[0m\u001b[1;31m:\u001b[0m 'return' outside function\n"
     ]
    }
   ],
   "source": [
    " urllib.request.urlretrieve(download_url ,tgz_file_path)\n",
    " tgz_file_path"
   ]
  },
  {
   "cell_type": "code",
   "execution_count": 14,
   "metadata": {},
   "outputs": [],
   "source": [
    "import tarfile "
   ]
  },
  {
   "cell_type": "code",
   "execution_count": 15,
   "metadata": {},
   "outputs": [],
   "source": [
    "raw_data_dir = os.path.join(\"raw_data\" ,\"airfoil_self_noise.dat\")"
   ]
  },
  {
   "cell_type": "code",
   "execution_count": 17,
   "metadata": {},
   "outputs": [
    {
     "ename": "ReadError",
     "evalue": "file could not be opened successfully",
     "output_type": "error",
     "traceback": [
      "\u001b[1;31m---------------------------------------------------------------------------\u001b[0m",
      "\u001b[1;31mReadError\u001b[0m                                 Traceback (most recent call last)",
      "\u001b[1;32m~\\AppData\\Local\\Temp\\ipykernel_11808\\728657798.py\u001b[0m in \u001b[0;36m<module>\u001b[1;34m\u001b[0m\n\u001b[1;32m----> 1\u001b[1;33m \u001b[1;32mwith\u001b[0m \u001b[0mtarfile\u001b[0m\u001b[1;33m.\u001b[0m\u001b[0mopen\u001b[0m\u001b[1;33m(\u001b[0m\u001b[0mtgz_file_path\u001b[0m\u001b[1;33m)\u001b[0m \u001b[1;32mas\u001b[0m \u001b[0mhs\u001b[0m\u001b[1;33m:\u001b[0m\u001b[1;33m\u001b[0m\u001b[0m\n\u001b[0m\u001b[0;32m      2\u001b[0m     \u001b[0mhs\u001b[0m\u001b[1;33m.\u001b[0m\u001b[0mextractall\u001b[0m\u001b[1;33m(\u001b[0m\u001b[0mpath\u001b[0m \u001b[1;33m=\u001b[0m \u001b[0mraw_data_dir\u001b[0m\u001b[1;33m)\u001b[0m\u001b[1;33m\u001b[0m\u001b[0m\n",
      "\u001b[1;32mc:\\Users\\somit\\Downloads\\project_ineuron\\practise_project_1\\venv\\lib\\tarfile.py\u001b[0m in \u001b[0;36mopen\u001b[1;34m(cls, name, mode, fileobj, bufsize, **kwargs)\u001b[0m\n\u001b[0;32m   1574\u001b[0m                         \u001b[0mfileobj\u001b[0m\u001b[1;33m.\u001b[0m\u001b[0mseek\u001b[0m\u001b[1;33m(\u001b[0m\u001b[0msaved_pos\u001b[0m\u001b[1;33m)\u001b[0m\u001b[1;33m\u001b[0m\u001b[0m\n\u001b[0;32m   1575\u001b[0m                     \u001b[1;32mcontinue\u001b[0m\u001b[1;33m\u001b[0m\u001b[0m\n\u001b[1;32m-> 1576\u001b[1;33m             \u001b[1;32mraise\u001b[0m \u001b[0mReadError\u001b[0m\u001b[1;33m(\u001b[0m\u001b[1;34m\"file could not be opened successfully\"\u001b[0m\u001b[1;33m)\u001b[0m\u001b[1;33m\u001b[0m\u001b[0m\n\u001b[0m\u001b[0;32m   1577\u001b[0m \u001b[1;33m\u001b[0m\u001b[0m\n\u001b[0;32m   1578\u001b[0m         \u001b[1;32melif\u001b[0m \u001b[1;34m\":\"\u001b[0m \u001b[1;32min\u001b[0m \u001b[0mmode\u001b[0m\u001b[1;33m:\u001b[0m\u001b[1;33m\u001b[0m\u001b[0m\n",
      "\u001b[1;31mReadError\u001b[0m: file could not be opened successfully"
     ]
    }
   ],
   "source": [
    "with tarfile.open(tgz_file_path) as hs:\n",
    "    hs.extractall(path = raw_data_dir)"
   ]
  },
  {
   "cell_type": "code",
   "execution_count": 46,
   "metadata": {},
   "outputs": [],
   "source": [
    "datContent = [i.strip().split() for i in open(\"./airfoil_data/airfoil_self_noise.dat\").readlines()]"
   ]
  },
  {
   "cell_type": "code",
   "execution_count": 63,
   "metadata": {},
   "outputs": [
    {
     "data": {
      "text/plain": [
       "[['800', '0', '0.3048', '71.3', '0.00266337', '126.201'],\n",
       " ['1000', '0', '0.3048', '71.3', '0.00266337', '125.201'],\n",
       " ['1250', '0', '0.3048', '71.3', '0.00266337', '125.951'],\n",
       " ['1600', '0', '0.3048', '71.3', '0.00266337', '127.591'],\n",
       " ['2000', '0', '0.3048', '71.3', '0.00266337', '127.461'],\n",
       " ['2500', '0', '0.3048', '71.3', '0.00266337', '125.571'],\n",
       " ['3150', '0', '0.3048', '71.3', '0.00266337', '125.201'],\n",
       " ['4000', '0', '0.3048', '71.3', '0.00266337', '123.061'],\n",
       " ['5000', '0', '0.3048', '71.3', '0.00266337', '121.301'],\n",
       " ['6300', '0', '0.3048', '71.3', '0.00266337', '119.541'],\n",
       " ['8000', '0', '0.3048', '71.3', '0.00266337', '117.151'],\n",
       " ['10000', '0', '0.3048', '71.3', '0.00266337', '115.391'],\n",
       " ['12500', '0', '0.3048', '71.3', '0.00266337', '112.241'],\n",
       " ['16000', '0', '0.3048', '71.3', '0.00266337', '108.721'],\n",
       " ['500', '0', '0.3048', '55.5', '0.00283081', '126.416'],\n",
       " ['630', '0', '0.3048', '55.5', '0.00283081', '127.696'],\n",
       " ['800', '0', '0.3048', '55.5', '0.00283081', '128.086'],\n",
       " ['1000', '0', '0.3048', '55.5', '0.00283081', '126.966'],\n",
       " ['1250', '0', '0.3048', '55.5', '0.00283081', '126.086'],\n",
       " ['1600', '0', '0.3048', '55.5', '0.00283081', '126.986'],\n",
       " ['2000', '0', '0.3048', '55.5', '0.00283081', '126.616'],\n",
       " ['2500', '0', '0.3048', '55.5', '0.00283081', '124.106'],\n",
       " ['3150', '0', '0.3048', '55.5', '0.00283081', '123.236'],\n",
       " ['4000', '0', '0.3048', '55.5', '0.00283081', '121.106'],\n",
       " ['5000', '0', '0.3048', '55.5', '0.00283081', '119.606'],\n",
       " ['6300', '0', '0.3048', '55.5', '0.00283081', '117.976'],\n",
       " ['8000', '0', '0.3048', '55.5', '0.00283081', '116.476'],\n",
       " ['10000', '0', '0.3048', '55.5', '0.00283081', '113.076'],\n",
       " ['12500', '0', '0.3048', '55.5', '0.00283081', '111.076'],\n",
       " ['200', '0', '0.3048', '39.6', '0.00310138', '118.129'],\n",
       " ['250', '0', '0.3048', '39.6', '0.00310138', '119.319'],\n",
       " ['315', '0', '0.3048', '39.6', '0.00310138', '122.779'],\n",
       " ['400', '0', '0.3048', '39.6', '0.00310138', '124.809'],\n",
       " ['500', '0', '0.3048', '39.6', '0.00310138', '126.959'],\n",
       " ['630', '0', '0.3048', '39.6', '0.00310138', '128.629'],\n",
       " ['800', '0', '0.3048', '39.6', '0.00310138', '129.099'],\n",
       " ['1000', '0', '0.3048', '39.6', '0.00310138', '127.899'],\n",
       " ['1250', '0', '0.3048', '39.6', '0.00310138', '125.499'],\n",
       " ['1600', '0', '0.3048', '39.6', '0.00310138', '124.049'],\n",
       " ['2000', '0', '0.3048', '39.6', '0.00310138', '123.689'],\n",
       " ['2500', '0', '0.3048', '39.6', '0.00310138', '121.399'],\n",
       " ['3150', '0', '0.3048', '39.6', '0.00310138', '120.319'],\n",
       " ['4000', '0', '0.3048', '39.6', '0.00310138', '119.229'],\n",
       " ['5000', '0', '0.3048', '39.6', '0.00310138', '117.789'],\n",
       " ['6300', '0', '0.3048', '39.6', '0.00310138', '116.229'],\n",
       " ['8000', '0', '0.3048', '39.6', '0.00310138', '114.779'],\n",
       " ['10000', '0', '0.3048', '39.6', '0.00310138', '112.139'],\n",
       " ['12500', '0', '0.3048', '39.6', '0.00310138', '109.619'],\n",
       " ['200', '0', '0.3048', '31.7', '0.00331266', '117.195'],\n",
       " ['250', '0', '0.3048', '31.7', '0.00331266', '118.595'],\n",
       " ['315', '0', '0.3048', '31.7', '0.00331266', '122.765'],\n",
       " ['400', '0', '0.3048', '31.7', '0.00331266', '125.045'],\n",
       " ['500', '0', '0.3048', '31.7', '0.00331266', '127.315'],\n",
       " ['630', '0', '0.3048', '31.7', '0.00331266', '129.095'],\n",
       " ['800', '0', '0.3048', '31.7', '0.00331266', '129.235'],\n",
       " ['1000', '0', '0.3048', '31.7', '0.00331266', '127.365'],\n",
       " ['1250', '0', '0.3048', '31.7', '0.00331266', '124.355'],\n",
       " ['1600', '0', '0.3048', '31.7', '0.00331266', '122.365'],\n",
       " ['2000', '0', '0.3048', '31.7', '0.00331266', '122.375'],\n",
       " ['2500', '0', '0.3048', '31.7', '0.00331266', '120.755'],\n",
       " ['3150', '0', '0.3048', '31.7', '0.00331266', '119.135'],\n",
       " ['4000', '0', '0.3048', '31.7', '0.00331266', '118.145'],\n",
       " ['5000', '0', '0.3048', '31.7', '0.00331266', '115.645'],\n",
       " ['6300', '0', '0.3048', '31.7', '0.00331266', '113.775'],\n",
       " ['8000', '0', '0.3048', '31.7', '0.00331266', '110.515'],\n",
       " ['10000', '0', '0.3048', '31.7', '0.00331266', '108.265'],\n",
       " ['800', '1.5', '0.3048', '71.3', '0.00336729', '127.122'],\n",
       " ['1000', '1.5', '0.3048', '71.3', '0.00336729', '125.992'],\n",
       " ['1250', '1.5', '0.3048', '71.3', '0.00336729', '125.872'],\n",
       " ['1600', '1.5', '0.3048', '71.3', '0.00336729', '126.632'],\n",
       " ['2000', '1.5', '0.3048', '71.3', '0.00336729', '126.642'],\n",
       " ['2500', '1.5', '0.3048', '71.3', '0.00336729', '124.512'],\n",
       " ['3150', '1.5', '0.3048', '71.3', '0.00336729', '123.392'],\n",
       " ['4000', '1.5', '0.3048', '71.3', '0.00336729', '121.762'],\n",
       " ['5000', '1.5', '0.3048', '71.3', '0.00336729', '119.632'],\n",
       " ['6300', '1.5', '0.3048', '71.3', '0.00336729', '118.122'],\n",
       " ['8000', '1.5', '0.3048', '71.3', '0.00336729', '115.372'],\n",
       " ['10000', '1.5', '0.3048', '71.3', '0.00336729', '113.492'],\n",
       " ['12500', '1.5', '0.3048', '71.3', '0.00336729', '109.222'],\n",
       " ['16000', '1.5', '0.3048', '71.3', '0.00336729', '106.582'],\n",
       " ['315', '1.5', '0.3048', '39.6', '0.00392107', '121.851'],\n",
       " ['400', '1.5', '0.3048', '39.6', '0.00392107', '124.001'],\n",
       " ['500', '1.5', '0.3048', '39.6', '0.00392107', '126.661'],\n",
       " ['630', '1.5', '0.3048', '39.6', '0.00392107', '128.311'],\n",
       " ['800', '1.5', '0.3048', '39.6', '0.00392107', '128.831'],\n",
       " ['1000', '1.5', '0.3048', '39.6', '0.00392107', '127.581'],\n",
       " ['1250', '1.5', '0.3048', '39.6', '0.00392107', '125.211'],\n",
       " ['1600', '1.5', '0.3048', '39.6', '0.00392107', '122.211'],\n",
       " ['2000', '1.5', '0.3048', '39.6', '0.00392107', '122.101'],\n",
       " ['2500', '1.5', '0.3048', '39.6', '0.00392107', '120.981'],\n",
       " ['3150', '1.5', '0.3048', '39.6', '0.00392107', '119.111'],\n",
       " ['4000', '1.5', '0.3048', '39.6', '0.00392107', '117.741'],\n",
       " ['5000', '1.5', '0.3048', '39.6', '0.00392107', '116.241'],\n",
       " ['6300', '1.5', '0.3048', '39.6', '0.00392107', '114.751'],\n",
       " ['8000', '1.5', '0.3048', '39.6', '0.00392107', '112.251'],\n",
       " ['10000', '1.5', '0.3048', '39.6', '0.00392107', '108.991'],\n",
       " ['12500', '1.5', '0.3048', '39.6', '0.00392107', '106.111'],\n",
       " ['400', '3', '0.3048', '71.3', '0.00425727', '127.564'],\n",
       " ['500', '3', '0.3048', '71.3', '0.00425727', '128.454'],\n",
       " ['630', '3', '0.3048', '71.3', '0.00425727', '129.354'],\n",
       " ['800', '3', '0.3048', '71.3', '0.00425727', '129.494'],\n",
       " ['1000', '3', '0.3048', '71.3', '0.00425727', '129.004'],\n",
       " ['1250', '3', '0.3048', '71.3', '0.00425727', '127.634'],\n",
       " ['1600', '3', '0.3048', '71.3', '0.00425727', '126.514'],\n",
       " ['2000', '3', '0.3048', '71.3', '0.00425727', '125.524'],\n",
       " ['2500', '3', '0.3048', '71.3', '0.00425727', '124.024'],\n",
       " ['3150', '3', '0.3048', '71.3', '0.00425727', '121.514'],\n",
       " ['4000', '3', '0.3048', '71.3', '0.00425727', '120.264'],\n",
       " ['5000', '3', '0.3048', '71.3', '0.00425727', '118.134'],\n",
       " ['6300', '3', '0.3048', '71.3', '0.00425727', '116.134'],\n",
       " ['8000', '3', '0.3048', '71.3', '0.00425727', '114.634'],\n",
       " ['10000', '3', '0.3048', '71.3', '0.00425727', '110.224'],\n",
       " ['400', '3', '0.3048', '55.5', '0.00452492', '126.159'],\n",
       " ['500', '3', '0.3048', '55.5', '0.00452492', '128.179'],\n",
       " ['630', '3', '0.3048', '55.5', '0.00452492', '129.569'],\n",
       " ['800', '3', '0.3048', '55.5', '0.00452492', '129.949'],\n",
       " ['1000', '3', '0.3048', '55.5', '0.00452492', '129.329'],\n",
       " ['1250', '3', '0.3048', '55.5', '0.00452492', '127.329'],\n",
       " ['1600', '3', '0.3048', '55.5', '0.00452492', '124.439'],\n",
       " ['2000', '3', '0.3048', '55.5', '0.00452492', '123.069'],\n",
       " ['2500', '3', '0.3048', '55.5', '0.00452492', '122.439'],\n",
       " ['3150', '3', '0.3048', '55.5', '0.00452492', '120.189'],\n",
       " ['4000', '3', '0.3048', '55.5', '0.00452492', '118.689'],\n",
       " ['5000', '3', '0.3048', '55.5', '0.00452492', '117.309'],\n",
       " ['6300', '3', '0.3048', '55.5', '0.00452492', '115.679'],\n",
       " ['8000', '3', '0.3048', '55.5', '0.00452492', '113.799'],\n",
       " ['10000', '3', '0.3048', '55.5', '0.00452492', '112.169'],\n",
       " ['315', '3', '0.3048', '39.6', '0.00495741', '123.312'],\n",
       " ['400', '3', '0.3048', '39.6', '0.00495741', '125.472'],\n",
       " ['500', '3', '0.3048', '39.6', '0.00495741', '127.632'],\n",
       " ['630', '3', '0.3048', '39.6', '0.00495741', '129.292'],\n",
       " ['800', '3', '0.3048', '39.6', '0.00495741', '129.552'],\n",
       " ['1000', '3', '0.3048', '39.6', '0.00495741', '128.312'],\n",
       " ['1250', '3', '0.3048', '39.6', '0.00495741', '125.802'],\n",
       " ['1600', '3', '0.3048', '39.6', '0.00495741', '122.782'],\n",
       " ['2000', '3', '0.3048', '39.6', '0.00495741', '120.532'],\n",
       " ['2500', '3', '0.3048', '39.6', '0.00495741', '120.162'],\n",
       " ['3150', '3', '0.3048', '39.6', '0.00495741', '118.922'],\n",
       " ['4000', '3', '0.3048', '39.6', '0.00495741', '116.792'],\n",
       " ['5000', '3', '0.3048', '39.6', '0.00495741', '115.792'],\n",
       " ['6300', '3', '0.3048', '39.6', '0.00495741', '114.042'],\n",
       " ['8000', '3', '0.3048', '39.6', '0.00495741', '110.652'],\n",
       " ['315', '3', '0.3048', '31.7', '0.00529514', '123.118'],\n",
       " ['400', '3', '0.3048', '31.7', '0.00529514', '125.398'],\n",
       " ['500', '3', '0.3048', '31.7', '0.00529514', '127.548'],\n",
       " ['630', '3', '0.3048', '31.7', '0.00529514', '128.698'],\n",
       " ['800', '3', '0.3048', '31.7', '0.00529514', '128.708'],\n",
       " ['1000', '3', '0.3048', '31.7', '0.00529514', '126.838'],\n",
       " ['1250', '3', '0.3048', '31.7', '0.00529514', '124.838'],\n",
       " ['1600', '3', '0.3048', '31.7', '0.00529514', '122.088'],\n",
       " ['2000', '3', '0.3048', '31.7', '0.00529514', '120.088'],\n",
       " ['2500', '3', '0.3048', '31.7', '0.00529514', '119.598'],\n",
       " ['3150', '3', '0.3048', '31.7', '0.00529514', '118.108'],\n",
       " ['4000', '3', '0.3048', '31.7', '0.00529514', '115.608'],\n",
       " ['5000', '3', '0.3048', '31.7', '0.00529514', '113.858'],\n",
       " ['6300', '3', '0.3048', '31.7', '0.00529514', '109.718'],\n",
       " ['250', '4', '0.3048', '71.3', '0.00497773', '126.395'],\n",
       " ['315', '4', '0.3048', '71.3', '0.00497773', '128.175'],\n",
       " ['400', '4', '0.3048', '71.3', '0.00497773', '129.575'],\n",
       " ['500', '4', '0.3048', '71.3', '0.00497773', '130.715'],\n",
       " ['630', '4', '0.3048', '71.3', '0.00497773', '131.615'],\n",
       " ['800', '4', '0.3048', '71.3', '0.00497773', '131.755'],\n",
       " ['1000', '4', '0.3048', '71.3', '0.00497773', '131.015'],\n",
       " ['1250', '4', '0.3048', '71.3', '0.00497773', '129.395'],\n",
       " ['1600', '4', '0.3048', '71.3', '0.00497773', '126.645'],\n",
       " ['2000', '4', '0.3048', '71.3', '0.00497773', '124.395'],\n",
       " ['2500', '4', '0.3048', '71.3', '0.00497773', '123.775'],\n",
       " ['3150', '4', '0.3048', '71.3', '0.00497773', '121.775'],\n",
       " ['4000', '4', '0.3048', '71.3', '0.00497773', '119.535'],\n",
       " ['5000', '4', '0.3048', '71.3', '0.00497773', '117.785'],\n",
       " ['6300', '4', '0.3048', '71.3', '0.00497773', '116.165'],\n",
       " ['8000', '4', '0.3048', '71.3', '0.00497773', '113.665'],\n",
       " ['10000', '4', '0.3048', '71.3', '0.00497773', '110.905'],\n",
       " ['12500', '4', '0.3048', '71.3', '0.00497773', '107.405'],\n",
       " ['250', '4', '0.3048', '39.6', '0.00579636', '123.543'],\n",
       " ['315', '4', '0.3048', '39.6', '0.00579636', '126.843'],\n",
       " ['400', '4', '0.3048', '39.6', '0.00579636', '128.633'],\n",
       " ['500', '4', '0.3048', '39.6', '0.00579636', '130.173'],\n",
       " ['630', '4', '0.3048', '39.6', '0.00579636', '131.073'],\n",
       " ['800', '4', '0.3048', '39.6', '0.00579636', '130.723'],\n",
       " ['1000', '4', '0.3048', '39.6', '0.00579636', '128.723'],\n",
       " ['1250', '4', '0.3048', '39.6', '0.00579636', '126.343'],\n",
       " ['1600', '4', '0.3048', '39.6', '0.00579636', '123.213'],\n",
       " ['2000', '4', '0.3048', '39.6', '0.00579636', '120.963'],\n",
       " ['2500', '4', '0.3048', '39.6', '0.00579636', '120.233'],\n",
       " ['3150', '4', '0.3048', '39.6', '0.00579636', '118.743'],\n",
       " ['4000', '4', '0.3048', '39.6', '0.00579636', '115.863'],\n",
       " ['5000', '4', '0.3048', '39.6', '0.00579636', '113.733'],\n",
       " ['1250', '0', '0.2286', '71.3', '0.00214345', '128.144'],\n",
       " ['1600', '0', '0.2286', '71.3', '0.00214345', '129.134'],\n",
       " ['2000', '0', '0.2286', '71.3', '0.00214345', '128.244'],\n",
       " ['2500', '0', '0.2286', '71.3', '0.00214345', '128.354'],\n",
       " ['3150', '0', '0.2286', '71.3', '0.00214345', '127.834'],\n",
       " ['4000', '0', '0.2286', '71.3', '0.00214345', '125.824'],\n",
       " ['5000', '0', '0.2286', '71.3', '0.00214345', '124.304'],\n",
       " ['6300', '0', '0.2286', '71.3', '0.00214345', '122.044'],\n",
       " ['8000', '0', '0.2286', '71.3', '0.00214345', '118.024'],\n",
       " ['10000', '0', '0.2286', '71.3', '0.00214345', '118.134'],\n",
       " ['12500', '0', '0.2286', '71.3', '0.00214345', '117.624'],\n",
       " ['16000', '0', '0.2286', '71.3', '0.00214345', '114.984'],\n",
       " ['20000', '0', '0.2286', '71.3', '0.00214345', '114.474'],\n",
       " ['315', '0', '0.2286', '55.5', '0.00229336', '119.540'],\n",
       " ['400', '0', '0.2286', '55.5', '0.00229336', '121.660'],\n",
       " ['500', '0', '0.2286', '55.5', '0.00229336', '123.780'],\n",
       " ['630', '0', '0.2286', '55.5', '0.00229336', '126.160'],\n",
       " ['800', '0', '0.2286', '55.5', '0.00229336', '127.530'],\n",
       " ['1000', '0', '0.2286', '55.5', '0.00229336', '128.290'],\n",
       " ['1250', '0', '0.2286', '55.5', '0.00229336', '127.910'],\n",
       " ['1600', '0', '0.2286', '55.5', '0.00229336', '126.790'],\n",
       " ['2000', '0', '0.2286', '55.5', '0.00229336', '126.540'],\n",
       " ['2500', '0', '0.2286', '55.5', '0.00229336', '126.540'],\n",
       " ['3150', '0', '0.2286', '55.5', '0.00229336', '125.160'],\n",
       " ['4000', '0', '0.2286', '55.5', '0.00229336', '123.410'],\n",
       " ['5000', '0', '0.2286', '55.5', '0.00229336', '122.410'],\n",
       " ['6300', '0', '0.2286', '55.5', '0.00229336', '118.410'],\n",
       " ['315', '0', '0.2286', '39.6', '0.00253511', '121.055'],\n",
       " ['400', '0', '0.2286', '39.6', '0.00253511', '123.565'],\n",
       " ['500', '0', '0.2286', '39.6', '0.00253511', '126.195'],\n",
       " ['630', '0', '0.2286', '39.6', '0.00253511', '128.705'],\n",
       " ['800', '0', '0.2286', '39.6', '0.00253511', '130.205'],\n",
       " ['1000', '0', '0.2286', '39.6', '0.00253511', '130.435'],\n",
       " ['1250', '0', '0.2286', '39.6', '0.00253511', '129.395'],\n",
       " ['1600', '0', '0.2286', '39.6', '0.00253511', '127.095'],\n",
       " ['2000', '0', '0.2286', '39.6', '0.00253511', '125.305'],\n",
       " ['2500', '0', '0.2286', '39.6', '0.00253511', '125.025'],\n",
       " ['3150', '0', '0.2286', '39.6', '0.00253511', '124.625'],\n",
       " ['4000', '0', '0.2286', '39.6', '0.00253511', '123.465'],\n",
       " ['5000', '0', '0.2286', '39.6', '0.00253511', '122.175'],\n",
       " ['6300', '0', '0.2286', '39.6', '0.00253511', '117.465'],\n",
       " ['315', '0', '0.2286', '31.7', '0.0027238', '120.595'],\n",
       " ['400', '0', '0.2286', '31.7', '0.0027238', '123.635'],\n",
       " ['500', '0', '0.2286', '31.7', '0.0027238', '126.675'],\n",
       " ['630', '0', '0.2286', '31.7', '0.0027238', '129.465'],\n",
       " ['800', '0', '0.2286', '31.7', '0.0027238', '130.725'],\n",
       " ['1000', '0', '0.2286', '31.7', '0.0027238', '130.595'],\n",
       " ['1250', '0', '0.2286', '31.7', '0.0027238', '128.805'],\n",
       " ['1600', '0', '0.2286', '31.7', '0.0027238', '125.625'],\n",
       " ['2000', '0', '0.2286', '31.7', '0.0027238', '123.455'],\n",
       " ['2500', '0', '0.2286', '31.7', '0.0027238', '123.445'],\n",
       " ['3150', '0', '0.2286', '31.7', '0.0027238', '123.445'],\n",
       " ['4000', '0', '0.2286', '31.7', '0.0027238', '122.035'],\n",
       " ['5000', '0', '0.2286', '31.7', '0.0027238', '120.505'],\n",
       " ['6300', '0', '0.2286', '31.7', '0.0027238', '116.815'],\n",
       " ['400', '2', '0.2286', '71.3', '0.00293031', '125.116'],\n",
       " ['500', '2', '0.2286', '71.3', '0.00293031', '126.486'],\n",
       " ['630', '2', '0.2286', '71.3', '0.00293031', '127.356'],\n",
       " ['800', '2', '0.2286', '71.3', '0.00293031', '128.216'],\n",
       " ['1000', '2', '0.2286', '71.3', '0.00293031', '128.956'],\n",
       " ['1250', '2', '0.2286', '71.3', '0.00293031', '128.816'],\n",
       " ['1600', '2', '0.2286', '71.3', '0.00293031', '127.796'],\n",
       " ['2000', '2', '0.2286', '71.3', '0.00293031', '126.896'],\n",
       " ['2500', '2', '0.2286', '71.3', '0.00293031', '127.006'],\n",
       " ['3150', '2', '0.2286', '71.3', '0.00293031', '126.116'],\n",
       " ['4000', '2', '0.2286', '71.3', '0.00293031', '124.086'],\n",
       " ['5000', '2', '0.2286', '71.3', '0.00293031', '122.816'],\n",
       " ['6300', '2', '0.2286', '71.3', '0.00293031', '120.786'],\n",
       " ['8000', '2', '0.2286', '71.3', '0.00293031', '115.996'],\n",
       " ['10000', '2', '0.2286', '71.3', '0.00293031', '113.086'],\n",
       " ['400', '2', '0.2286', '55.5', '0.00313525', '122.292'],\n",
       " ['500', '2', '0.2286', '55.5', '0.00313525', '124.692'],\n",
       " ['630', '2', '0.2286', '55.5', '0.00313525', '126.842'],\n",
       " ['800', '2', '0.2286', '55.5', '0.00313525', '128.492'],\n",
       " ['1000', '2', '0.2286', '55.5', '0.00313525', '129.002'],\n",
       " ['1250', '2', '0.2286', '55.5', '0.00313525', '128.762'],\n",
       " ['1600', '2', '0.2286', '55.5', '0.00313525', '126.752'],\n",
       " ['2000', '2', '0.2286', '55.5', '0.00313525', '124.612'],\n",
       " ['2500', '2', '0.2286', '55.5', '0.00313525', '123.862'],\n",
       " ['3150', '2', '0.2286', '55.5', '0.00313525', '123.742'],\n",
       " ['4000', '2', '0.2286', '55.5', '0.00313525', '122.232'],\n",
       " ['5000', '2', '0.2286', '55.5', '0.00313525', '120.472'],\n",
       " ['6300', '2', '0.2286', '55.5', '0.00313525', '118.712'],\n",
       " ['315', '2', '0.2286', '39.6', '0.00346574', '120.137'],\n",
       " ['400', '2', '0.2286', '39.6', '0.00346574', '122.147'],\n",
       " ['500', '2', '0.2286', '39.6', '0.00346574', '125.157'],\n",
       " ['630', '2', '0.2286', '39.6', '0.00346574', '127.417'],\n",
       " ['800', '2', '0.2286', '39.6', '0.00346574', '129.037'],\n",
       " ['1000', '2', '0.2286', '39.6', '0.00346574', '129.147'],\n",
       " ['1250', '2', '0.2286', '39.6', '0.00346574', '128.257'],\n",
       " ['1600', '2', '0.2286', '39.6', '0.00346574', '125.837'],\n",
       " ['2000', '2', '0.2286', '39.6', '0.00346574', '122.797'],\n",
       " ['2500', '2', '0.2286', '39.6', '0.00346574', '121.397'],\n",
       " ['3150', '2', '0.2286', '39.6', '0.00346574', '121.627'],\n",
       " ['4000', '2', '0.2286', '39.6', '0.00346574', '120.227'],\n",
       " ['5000', '2', '0.2286', '39.6', '0.00346574', '118.827'],\n",
       " ['6300', '2', '0.2286', '39.6', '0.00346574', '116.417'],\n",
       " ['315', '2', '0.2286', '31.7', '0.00372371', '120.147'],\n",
       " ['400', '2', '0.2286', '31.7', '0.00372371', '123.417'],\n",
       " ['500', '2', '0.2286', '31.7', '0.00372371', '126.677'],\n",
       " ['630', '2', '0.2286', '31.7', '0.00372371', '129.057'],\n",
       " ['800', '2', '0.2286', '31.7', '0.00372371', '130.307'],\n",
       " ['1000', '2', '0.2286', '31.7', '0.00372371', '130.307'],\n",
       " ['1250', '2', '0.2286', '31.7', '0.00372371', '128.677'],\n",
       " ['1600', '2', '0.2286', '31.7', '0.00372371', '125.797'],\n",
       " ['2000', '2', '0.2286', '31.7', '0.00372371', '123.037'],\n",
       " ['2500', '2', '0.2286', '31.7', '0.00372371', '121.407'],\n",
       " ['3150', '2', '0.2286', '31.7', '0.00372371', '121.527'],\n",
       " ['4000', '2', '0.2286', '31.7', '0.00372371', '120.527'],\n",
       " ['5000', '2', '0.2286', '31.7', '0.00372371', '118.267'],\n",
       " ['6300', '2', '0.2286', '31.7', '0.00372371', '115.137'],\n",
       " ['500', '4', '0.2286', '71.3', '0.00400603', '126.758'],\n",
       " ['630', '4', '0.2286', '71.3', '0.00400603', '129.038'],\n",
       " ['800', '4', '0.2286', '71.3', '0.00400603', '130.688'],\n",
       " ['1000', '4', '0.2286', '71.3', '0.00400603', '131.708'],\n",
       " ['1250', '4', '0.2286', '71.3', '0.00400603', '131.718'],\n",
       " ['1600', '4', '0.2286', '71.3', '0.00400603', '129.468'],\n",
       " ['2000', '4', '0.2286', '71.3', '0.00400603', '126.218'],\n",
       " ['2500', '4', '0.2286', '71.3', '0.00400603', '124.338'],\n",
       " ['3150', '4', '0.2286', '71.3', '0.00400603', '124.108'],\n",
       " ['4000', '4', '0.2286', '71.3', '0.00400603', '121.728'],\n",
       " ['5000', '4', '0.2286', '71.3', '0.00400603', '121.118'],\n",
       " ['6300', '4', '0.2286', '71.3', '0.00400603', '118.618'],\n",
       " ['8000', '4', '0.2286', '71.3', '0.00400603', '112.848'],\n",
       " ['10000', '4', '0.2286', '71.3', '0.00400603', '113.108'],\n",
       " ['12500', '4', '0.2286', '71.3', '0.00400603', '114.258'],\n",
       " ['16000', '4', '0.2286', '71.3', '0.00400603', '112.768'],\n",
       " ['20000', '4', '0.2286', '71.3', '0.00400603', '109.638'],\n",
       " ['400', '4', '0.2286', '55.5', '0.0042862', '123.274'],\n",
       " ['500', '4', '0.2286', '55.5', '0.0042862', '127.314'],\n",
       " ['630', '4', '0.2286', '55.5', '0.0042862', '129.964'],\n",
       " ['800', '4', '0.2286', '55.5', '0.0042862', '131.864'],\n",
       " ['1000', '4', '0.2286', '55.5', '0.0042862', '132.134'],\n",
       " ['1250', '4', '0.2286', '55.5', '0.0042862', '131.264'],\n",
       " ['1600', '4', '0.2286', '55.5', '0.0042862', '128.264'],\n",
       " ['2000', '4', '0.2286', '55.5', '0.0042862', '124.254'],\n",
       " ['2500', '4', '0.2286', '55.5', '0.0042862', '122.384'],\n",
       " ['3150', '4', '0.2286', '55.5', '0.0042862', '122.394'],\n",
       " ['4000', '4', '0.2286', '55.5', '0.0042862', '120.654'],\n",
       " ['5000', '4', '0.2286', '55.5', '0.0042862', '120.034'],\n",
       " ['6300', '4', '0.2286', '55.5', '0.0042862', '117.154'],\n",
       " ['8000', '4', '0.2286', '55.5', '0.0042862', '112.524'],\n",
       " ['315', '4', '0.2286', '39.6', '0.00473801', '122.229'],\n",
       " ['400', '4', '0.2286', '39.6', '0.00473801', '123.879'],\n",
       " ['500', '4', '0.2286', '39.6', '0.00473801', '127.039'],\n",
       " ['630', '4', '0.2286', '39.6', '0.00473801', '129.579'],\n",
       " ['800', '4', '0.2286', '39.6', '0.00473801', '130.469'],\n",
       " ['1000', '4', '0.2286', '39.6', '0.00473801', '129.969'],\n",
       " ['1250', '4', '0.2286', '39.6', '0.00473801', '128.339'],\n",
       " ['1600', '4', '0.2286', '39.6', '0.00473801', '125.319'],\n",
       " ['2000', '4', '0.2286', '39.6', '0.00473801', '121.659'],\n",
       " ['2500', '4', '0.2286', '39.6', '0.00473801', '119.649'],\n",
       " ['3150', '4', '0.2286', '39.6', '0.00473801', '120.419'],\n",
       " ['4000', '4', '0.2286', '39.6', '0.00473801', '119.159'],\n",
       " ['5000', '4', '0.2286', '39.6', '0.00473801', '117.649'],\n",
       " ['6300', '4', '0.2286', '39.6', '0.00473801', '114.249'],\n",
       " ['8000', '4', '0.2286', '39.6', '0.00473801', '113.129'],\n",
       " ['250', '4', '0.2286', '31.7', '0.00509068', '120.189'],\n",
       " ['315', '4', '0.2286', '31.7', '0.00509068', '123.609'],\n",
       " ['400', '4', '0.2286', '31.7', '0.00509068', '126.149'],\n",
       " ['500', '4', '0.2286', '31.7', '0.00509068', '128.939'],\n",
       " ['630', '4', '0.2286', '31.7', '0.00509068', '130.349'],\n",
       " ['800', '4', '0.2286', '31.7', '0.00509068', '130.869'],\n",
       " ['1000', '4', '0.2286', '31.7', '0.00509068', '129.869'],\n",
       " ['1250', '4', '0.2286', '31.7', '0.00509068', '128.119'],\n",
       " ['1600', '4', '0.2286', '31.7', '0.00509068', '125.229'],\n",
       " ['2000', '4', '0.2286', '31.7', '0.00509068', '122.089'],\n",
       " ['2500', '4', '0.2286', '31.7', '0.00509068', '120.209'],\n",
       " ['3150', '4', '0.2286', '31.7', '0.00509068', '120.229'],\n",
       " ['4000', '4', '0.2286', '31.7', '0.00509068', '118.859'],\n",
       " ['5000', '4', '0.2286', '31.7', '0.00509068', '115.969'],\n",
       " ['6300', '4', '0.2286', '31.7', '0.00509068', '112.699'],\n",
       " ['400', '5.3', '0.2286', '71.3', '0.0051942', '127.700'],\n",
       " ['500', '5.3', '0.2286', '71.3', '0.0051942', '129.880'],\n",
       " ['630', '5.3', '0.2286', '71.3', '0.0051942', '131.800'],\n",
       " ['800', '5.3', '0.2286', '71.3', '0.0051942', '133.480'],\n",
       " ['1000', '5.3', '0.2286', '71.3', '0.0051942', '134.000'],\n",
       " ['1250', '5.3', '0.2286', '71.3', '0.0051942', '133.380'],\n",
       " ['1600', '5.3', '0.2286', '71.3', '0.0051942', '130.460'],\n",
       " ['2000', '5.3', '0.2286', '71.3', '0.0051942', '125.890'],\n",
       " ['2500', '5.3', '0.2286', '71.3', '0.0051942', '123.740'],\n",
       " ['3150', '5.3', '0.2286', '71.3', '0.0051942', '123.120'],\n",
       " ['4000', '5.3', '0.2286', '71.3', '0.0051942', '120.330'],\n",
       " ['5000', '5.3', '0.2286', '71.3', '0.0051942', '118.050'],\n",
       " ['6300', '5.3', '0.2286', '71.3', '0.0051942', '116.920'],\n",
       " ['8000', '5.3', '0.2286', '71.3', '0.0051942', '114.900'],\n",
       " ['10000', '5.3', '0.2286', '71.3', '0.0051942', '111.350'],\n",
       " ['250', '5.3', '0.2286', '39.6', '0.00614329', '127.011'],\n",
       " ['315', '5.3', '0.2286', '39.6', '0.00614329', '129.691'],\n",
       " ['400', '5.3', '0.2286', '39.6', '0.00614329', '131.221'],\n",
       " ['500', '5.3', '0.2286', '39.6', '0.00614329', '132.251'],\n",
       " ['630', '5.3', '0.2286', '39.6', '0.00614329', '132.011'],\n",
       " ['800', '5.3', '0.2286', '39.6', '0.00614329', '129.491'],\n",
       " ['1000', '5.3', '0.2286', '39.6', '0.00614329', '125.581'],\n",
       " ['1250', '5.3', '0.2286', '39.6', '0.00614329', '125.721'],\n",
       " ['1600', '5.3', '0.2286', '39.6', '0.00614329', '123.081'],\n",
       " ['2000', '5.3', '0.2286', '39.6', '0.00614329', '117.911'],\n",
       " ['2500', '5.3', '0.2286', '39.6', '0.00614329', '116.151'],\n",
       " ['3150', '5.3', '0.2286', '39.6', '0.00614329', '118.441'],\n",
       " ['4000', '5.3', '0.2286', '39.6', '0.00614329', '115.801'],\n",
       " ['5000', '5.3', '0.2286', '39.6', '0.00614329', '115.311'],\n",
       " ['6300', '5.3', '0.2286', '39.6', '0.00614329', '112.541'],\n",
       " ['200', '7.3', '0.2286', '71.3', '0.0104404', '138.758'],\n",
       " ['250', '7.3', '0.2286', '71.3', '0.0104404', '139.918'],\n",
       " ['315', '7.3', '0.2286', '71.3', '0.0104404', '139.808'],\n",
       " ['400', '7.3', '0.2286', '71.3', '0.0104404', '139.438'],\n",
       " ['500', '7.3', '0.2286', '71.3', '0.0104404', '136.798'],\n",
       " ['630', '7.3', '0.2286', '71.3', '0.0104404', '133.768'],\n",
       " ['800', '7.3', '0.2286', '71.3', '0.0104404', '130.748'],\n",
       " ['1000', '7.3', '0.2286', '71.3', '0.0104404', '126.838'],\n",
       " ['1250', '7.3', '0.2286', '71.3', '0.0104404', '127.358'],\n",
       " ['1600', '7.3', '0.2286', '71.3', '0.0104404', '125.728'],\n",
       " ['2000', '7.3', '0.2286', '71.3', '0.0104404', '122.708'],\n",
       " ['2500', '7.3', '0.2286', '71.3', '0.0104404', '122.088'],\n",
       " ['3150', '7.3', '0.2286', '71.3', '0.0104404', '120.458'],\n",
       " ['4000', '7.3', '0.2286', '71.3', '0.0104404', '119.208'],\n",
       " ['5000', '7.3', '0.2286', '71.3', '0.0104404', '115.298'],\n",
       " ['6300', '7.3', '0.2286', '71.3', '0.0104404', '115.818'],\n",
       " ['200', '7.3', '0.2286', '55.5', '0.0111706', '135.234'],\n",
       " ['250', '7.3', '0.2286', '55.5', '0.0111706', '136.384'],\n",
       " ['315', '7.3', '0.2286', '55.5', '0.0111706', '136.284'],\n",
       " ['400', '7.3', '0.2286', '55.5', '0.0111706', '135.924'],\n",
       " ['500', '7.3', '0.2286', '55.5', '0.0111706', '133.174'],\n",
       " ['630', '7.3', '0.2286', '55.5', '0.0111706', '130.934'],\n",
       " ['800', '7.3', '0.2286', '55.5', '0.0111706', '128.444'],\n",
       " ['1000', '7.3', '0.2286', '55.5', '0.0111706', '125.194'],\n",
       " ['1250', '7.3', '0.2286', '55.5', '0.0111706', '125.724'],\n",
       " ['1600', '7.3', '0.2286', '55.5', '0.0111706', '123.354'],\n",
       " ['2000', '7.3', '0.2286', '55.5', '0.0111706', '120.354'],\n",
       " ['2500', '7.3', '0.2286', '55.5', '0.0111706', '118.994'],\n",
       " ['3150', '7.3', '0.2286', '55.5', '0.0111706', '117.134'],\n",
       " ['4000', '7.3', '0.2286', '55.5', '0.0111706', '117.284'],\n",
       " ['5000', '7.3', '0.2286', '55.5', '0.0111706', '113.144'],\n",
       " ['6300', '7.3', '0.2286', '55.5', '0.0111706', '111.534'],\n",
       " ['200', '7.3', '0.2286', '39.6', '0.0123481', '130.989'],\n",
       " ['250', '7.3', '0.2286', '39.6', '0.0123481', '131.889'],\n",
       " ['315', '7.3', '0.2286', '39.6', '0.0123481', '132.149'],\n",
       " ['400', '7.3', '0.2286', '39.6', '0.0123481', '132.039'],\n",
       " ['500', '7.3', '0.2286', '39.6', '0.0123481', '130.299'],\n",
       " ['630', '7.3', '0.2286', '39.6', '0.0123481', '128.929'],\n",
       " ['800', '7.3', '0.2286', '39.6', '0.0123481', '126.299'],\n",
       " ['1000', '7.3', '0.2286', '39.6', '0.0123481', '122.539'],\n",
       " ['1250', '7.3', '0.2286', '39.6', '0.0123481', '123.189'],\n",
       " ['1600', '7.3', '0.2286', '39.6', '0.0123481', '121.059'],\n",
       " ['2000', '7.3', '0.2286', '39.6', '0.0123481', '117.809'],\n",
       " ['2500', '7.3', '0.2286', '39.6', '0.0123481', '116.559'],\n",
       " ['3150', '7.3', '0.2286', '39.6', '0.0123481', '114.309'],\n",
       " ['4000', '7.3', '0.2286', '39.6', '0.0123481', '114.079'],\n",
       " ['5000', '7.3', '0.2286', '39.6', '0.0123481', '111.959'],\n",
       " ['6300', '7.3', '0.2286', '39.6', '0.0123481', '110.839'],\n",
       " ['200', '7.3', '0.2286', '31.7', '0.0132672', '128.679'],\n",
       " ['250', '7.3', '0.2286', '31.7', '0.0132672', '130.089'],\n",
       " ['315', '7.3', '0.2286', '31.7', '0.0132672', '130.239'],\n",
       " ['400', '7.3', '0.2286', '31.7', '0.0132672', '130.269'],\n",
       " ['500', '7.3', '0.2286', '31.7', '0.0132672', '128.169'],\n",
       " ['630', '7.3', '0.2286', '31.7', '0.0132672', '126.189'],\n",
       " ['800', '7.3', '0.2286', '31.7', '0.0132672', '123.209'],\n",
       " ['1000', '7.3', '0.2286', '31.7', '0.0132672', '119.099'],\n",
       " ['1250', '7.3', '0.2286', '31.7', '0.0132672', '120.509'],\n",
       " ['1600', '7.3', '0.2286', '31.7', '0.0132672', '119.039'],\n",
       " ['2000', '7.3', '0.2286', '31.7', '0.0132672', '115.309'],\n",
       " ['2500', '7.3', '0.2286', '31.7', '0.0132672', '114.709'],\n",
       " ['3150', '7.3', '0.2286', '31.7', '0.0132672', '113.229'],\n",
       " ['4000', '7.3', '0.2286', '31.7', '0.0132672', '112.639'],\n",
       " ['5000', '7.3', '0.2286', '31.7', '0.0132672', '111.029'],\n",
       " ['6300', '7.3', '0.2286', '31.7', '0.0132672', '110.689'],\n",
       " ['800', '0', '0.1524', '71.3', '0.0015988', '125.817'],\n",
       " ['1000', '0', '0.1524', '71.3', '0.0015988', '127.307'],\n",
       " ['1250', '0', '0.1524', '71.3', '0.0015988', '128.927'],\n",
       " ['1600', '0', '0.1524', '71.3', '0.0015988', '129.667'],\n",
       " ['2000', '0', '0.1524', '71.3', '0.0015988', '128.647'],\n",
       " ['2500', '0', '0.1524', '71.3', '0.0015988', '128.127'],\n",
       " ['3150', '0', '0.1524', '71.3', '0.0015988', '129.377'],\n",
       " ['4000', '0', '0.1524', '71.3', '0.0015988', '128.857'],\n",
       " ['5000', '0', '0.1524', '71.3', '0.0015988', '126.457'],\n",
       " ['6300', '0', '0.1524', '71.3', '0.0015988', '125.427'],\n",
       " ['8000', '0', '0.1524', '71.3', '0.0015988', '122.527'],\n",
       " ['10000', '0', '0.1524', '71.3', '0.0015988', '120.247'],\n",
       " ['12500', '0', '0.1524', '71.3', '0.0015988', '117.087'],\n",
       " ['16000', '0', '0.1524', '71.3', '0.0015988', '113.297'],\n",
       " ['500', '0', '0.1524', '55.5', '0.00172668', '120.573'],\n",
       " ['630', '0', '0.1524', '55.5', '0.00172668', '123.583'],\n",
       " ['800', '0', '0.1524', '55.5', '0.00172668', '126.713'],\n",
       " ['1000', '0', '0.1524', '55.5', '0.00172668', '128.583'],\n",
       " ['1250', '0', '0.1524', '55.5', '0.00172668', '129.953'],\n",
       " ['1600', '0', '0.1524', '55.5', '0.00172668', '130.183'],\n",
       " ['2000', '0', '0.1524', '55.5', '0.00172668', '129.673'],\n",
       " ['2500', '0', '0.1524', '55.5', '0.00172668', '127.763'],\n",
       " ['3150', '0', '0.1524', '55.5', '0.00172668', '127.753'],\n",
       " ['4000', '0', '0.1524', '55.5', '0.00172668', '127.233'],\n",
       " ['5000', '0', '0.1524', '55.5', '0.00172668', '125.203'],\n",
       " ['6300', '0', '0.1524', '55.5', '0.00172668', '123.303'],\n",
       " ['8000', '0', '0.1524', '55.5', '0.00172668', '121.903'],\n",
       " ['10000', '0', '0.1524', '55.5', '0.00172668', '119.253'],\n",
       " ['12500', '0', '0.1524', '55.5', '0.00172668', '117.093'],\n",
       " ['16000', '0', '0.1524', '55.5', '0.00172668', '112.803'],\n",
       " ['500', '0', '0.1524', '39.6', '0.00193287', '119.513'],\n",
       " ['630', '0', '0.1524', '39.6', '0.00193287', '124.403'],\n",
       " ['800', '0', '0.1524', '39.6', '0.00193287', '127.903'],\n",
       " ['1000', '0', '0.1524', '39.6', '0.00193287', '130.033'],\n",
       " ['1250', '0', '0.1524', '39.6', '0.00193287', '131.023'],\n",
       " ['1600', '0', '0.1524', '39.6', '0.00193287', '131.013'],\n",
       " ['2000', '0', '0.1524', '39.6', '0.00193287', '129.633'],\n",
       " ['2500', '0', '0.1524', '39.6', '0.00193287', '126.863'],\n",
       " ['3150', '0', '0.1524', '39.6', '0.00193287', '125.603'],\n",
       " ['4000', '0', '0.1524', '39.6', '0.00193287', '125.343'],\n",
       " ['5000', '0', '0.1524', '39.6', '0.00193287', '123.453'],\n",
       " ['6300', '0', '0.1524', '39.6', '0.00193287', '121.313'],\n",
       " ['8000', '0', '0.1524', '39.6', '0.00193287', '120.553'],\n",
       " ['10000', '0', '0.1524', '39.6', '0.00193287', '115.413'],\n",
       " ['500', '0', '0.1524', '31.7', '0.00209405', '121.617'],\n",
       " ['630', '0', '0.1524', '31.7', '0.00209405', '125.997'],\n",
       " ['800', '0', '0.1524', '31.7', '0.00209405', '129.117'],\n",
       " ['1000', '0', '0.1524', '31.7', '0.00209405', '130.987'],\n",
       " ['1250', '0', '0.1524', '31.7', '0.00209405', '131.467'],\n",
       " ['1600', '0', '0.1524', '31.7', '0.00209405', '130.817'],\n",
       " ['2000', '0', '0.1524', '31.7', '0.00209405', '128.907'],\n",
       " ['2500', '0', '0.1524', '31.7', '0.00209405', '125.867'],\n",
       " ['3150', '0', '0.1524', '31.7', '0.00209405', '124.207'],\n",
       " ['4000', '0', '0.1524', '31.7', '0.00209405', '123.807'],\n",
       " ['5000', '0', '0.1524', '31.7', '0.00209405', '122.397'],\n",
       " ['6300', '0', '0.1524', '31.7', '0.00209405', '119.737'],\n",
       " ['8000', '0', '0.1524', '31.7', '0.00209405', '117.957'],\n",
       " ['630', '2.7', '0.1524', '71.3', '0.00243851', '127.404'],\n",
       " ['800', '2.7', '0.1524', '71.3', '0.00243851', '127.394'],\n",
       " ['1000', '2.7', '0.1524', '71.3', '0.00243851', '128.774'],\n",
       " ['1250', '2.7', '0.1524', '71.3', '0.00243851', '130.144'],\n",
       " ['1600', '2.7', '0.1524', '71.3', '0.00243851', '130.644'],\n",
       " ['2000', '2.7', '0.1524', '71.3', '0.00243851', '130.114'],\n",
       " ['2500', '2.7', '0.1524', '71.3', '0.00243851', '128.334'],\n",
       " ['3150', '2.7', '0.1524', '71.3', '0.00243851', '127.054'],\n",
       " ['4000', '2.7', '0.1524', '71.3', '0.00243851', '126.534'],\n",
       " ['5000', '2.7', '0.1524', '71.3', '0.00243851', '124.364'],\n",
       " ['6300', '2.7', '0.1524', '71.3', '0.00243851', '121.944'],\n",
       " ['8000', '2.7', '0.1524', '71.3', '0.00243851', '120.534'],\n",
       " ['10000', '2.7', '0.1524', '71.3', '0.00243851', '116.724'],\n",
       " ['12500', '2.7', '0.1524', '71.3', '0.00243851', '113.034'],\n",
       " ['16000', '2.7', '0.1524', '71.3', '0.00243851', '110.364'],\n",
       " ['500', '2.7', '0.1524', '39.6', '0.00294804', '121.009'],\n",
       " ['630', '2.7', '0.1524', '39.6', '0.00294804', '125.809'],\n",
       " ['800', '2.7', '0.1524', '39.6', '0.00294804', '128.829'],\n",
       " ['1000', '2.7', '0.1524', '39.6', '0.00294804', '130.589'],\n",
       " ['1250', '2.7', '0.1524', '39.6', '0.00294804', '130.829'],\n",
       " ['1600', '2.7', '0.1524', '39.6', '0.00294804', '130.049'],\n",
       " ['2000', '2.7', '0.1524', '39.6', '0.00294804', '128.139'],\n",
       " ['2500', '2.7', '0.1524', '39.6', '0.00294804', '125.589'],\n",
       " ['3150', '2.7', '0.1524', '39.6', '0.00294804', '122.919'],\n",
       " ['4000', '2.7', '0.1524', '39.6', '0.00294804', '121.889'],\n",
       " ['5000', '2.7', '0.1524', '39.6', '0.00294804', '121.499'],\n",
       " ['6300', '2.7', '0.1524', '39.6', '0.00294804', '119.209'],\n",
       " ['8000', '2.7', '0.1524', '39.6', '0.00294804', '116.659'],\n",
       " ['10000', '2.7', '0.1524', '39.6', '0.00294804', '112.589'],\n",
       " ['12500', '2.7', '0.1524', '39.6', '0.00294804', '108.649'],\n",
       " ['400', '5.4', '0.1524', '71.3', '0.00401199', '124.121'],\n",
       " ['500', '5.4', '0.1524', '71.3', '0.00401199', '126.291'],\n",
       " ['630', '5.4', '0.1524', '71.3', '0.00401199', '128.971'],\n",
       " ['800', '5.4', '0.1524', '71.3', '0.00401199', '131.281'],\n",
       " ['1000', '5.4', '0.1524', '71.3', '0.00401199', '133.201'],\n",
       " ['1250', '5.4', '0.1524', '71.3', '0.00401199', '134.111'],\n",
       " ['1600', '5.4', '0.1524', '71.3', '0.00401199', '133.241'],\n",
       " ['2000', '5.4', '0.1524', '71.3', '0.00401199', '131.111'],\n",
       " ['2500', '5.4', '0.1524', '71.3', '0.00401199', '127.591'],\n",
       " ['3150', '5.4', '0.1524', '71.3', '0.00401199', '123.311'],\n",
       " ['4000', '5.4', '0.1524', '71.3', '0.00401199', '121.431'],\n",
       " ['5000', '5.4', '0.1524', '71.3', '0.00401199', '120.061'],\n",
       " ['6300', '5.4', '0.1524', '71.3', '0.00401199', '116.411'],\n",
       " ['400', '5.4', '0.1524', '55.5', '0.00433288', '126.807'],\n",
       " ['500', '5.4', '0.1524', '55.5', '0.00433288', '129.367'],\n",
       " ['630', '5.4', '0.1524', '55.5', '0.00433288', '131.807'],\n",
       " ['800', '5.4', '0.1524', '55.5', '0.00433288', '133.097'],\n",
       " ['1000', '5.4', '0.1524', '55.5', '0.00433288', '132.127'],\n",
       " ['1250', '5.4', '0.1524', '55.5', '0.00433288', '130.777'],\n",
       " ['1600', '5.4', '0.1524', '55.5', '0.00433288', '130.567'],\n",
       " ['2000', '5.4', '0.1524', '55.5', '0.00433288', '128.707'],\n",
       " ['2500', '5.4', '0.1524', '55.5', '0.00433288', '124.077'],\n",
       " ['3150', '5.4', '0.1524', '55.5', '0.00433288', '121.587'],\n",
       " ['4000', '5.4', '0.1524', '55.5', '0.00433288', '119.737'],\n",
       " ['5000', '5.4', '0.1524', '55.5', '0.00433288', '118.757'],\n",
       " ['6300', '5.4', '0.1524', '55.5', '0.00433288', '117.287'],\n",
       " ['8000', '5.4', '0.1524', '55.5', '0.00433288', '114.927'],\n",
       " ['315', '5.4', '0.1524', '39.6', '0.00485029', '125.347'],\n",
       " ['400', '5.4', '0.1524', '39.6', '0.00485029', '127.637'],\n",
       " ['500', '5.4', '0.1524', '39.6', '0.00485029', '129.937'],\n",
       " ['630', '5.4', '0.1524', '39.6', '0.00485029', '132.357'],\n",
       " ['800', '5.4', '0.1524', '39.6', '0.00485029', '132.757'],\n",
       " ['1000', '5.4', '0.1524', '39.6', '0.00485029', '130.507'],\n",
       " ['1250', '5.4', '0.1524', '39.6', '0.00485029', '127.117'],\n",
       " ['1600', '5.4', '0.1524', '39.6', '0.00485029', '126.267'],\n",
       " ['2000', '5.4', '0.1524', '39.6', '0.00485029', '124.647'],\n",
       " ['2500', '5.4', '0.1524', '39.6', '0.00485029', '120.497'],\n",
       " ['3150', '5.4', '0.1524', '39.6', '0.00485029', '119.137'],\n",
       " ['4000', '5.4', '0.1524', '39.6', '0.00485029', '117.137'],\n",
       " ['5000', '5.4', '0.1524', '39.6', '0.00485029', '117.037'],\n",
       " ['6300', '5.4', '0.1524', '39.6', '0.00485029', '116.677'],\n",
       " ['315', '5.4', '0.1524', '31.7', '0.00525474', '125.741'],\n",
       " ['400', '5.4', '0.1524', '31.7', '0.00525474', '127.781'],\n",
       " ['500', '5.4', '0.1524', '31.7', '0.00525474', '129.681'],\n",
       " ['630', '5.4', '0.1524', '31.7', '0.00525474', '131.471'],\n",
       " ['800', '5.4', '0.1524', '31.7', '0.00525474', '131.491'],\n",
       " ['1000', '5.4', '0.1524', '31.7', '0.00525474', '128.241'],\n",
       " ['1250', '5.4', '0.1524', '31.7', '0.00525474', '123.991'],\n",
       " ['1600', '5.4', '0.1524', '31.7', '0.00525474', '123.761'],\n",
       " ['2000', '5.4', '0.1524', '31.7', '0.00525474', '122.771'],\n",
       " ['2500', '5.4', '0.1524', '31.7', '0.00525474', '119.151'],\n",
       " ['3150', '5.4', '0.1524', '31.7', '0.00525474', '118.291'],\n",
       " ['4000', '5.4', '0.1524', '31.7', '0.00525474', '116.181'],\n",
       " ['5000', '5.4', '0.1524', '31.7', '0.00525474', '115.691'],\n",
       " ['6300', '5.4', '0.1524', '31.7', '0.00525474', '115.591'],\n",
       " ['315', '7.2', '0.1524', '71.3', '0.00752039', '128.713'],\n",
       " ['400', '7.2', '0.1524', '71.3', '0.00752039', '130.123'],\n",
       " ['500', '7.2', '0.1524', '71.3', '0.00752039', '132.043'],\n",
       " ['630', '7.2', '0.1524', '71.3', '0.00752039', '134.853'],\n",
       " ['800', '7.2', '0.1524', '71.3', '0.00752039', '136.023'],\n",
       " ['1000', '7.2', '0.1524', '71.3', '0.00752039', '134.273'],\n",
       " ['1250', '7.2', '0.1524', '71.3', '0.00752039', '132.513'],\n",
       " ['1600', '7.2', '0.1524', '71.3', '0.00752039', '130.893'],\n",
       " ['2000', '7.2', '0.1524', '71.3', '0.00752039', '128.643'],\n",
       " ['2500', '7.2', '0.1524', '71.3', '0.00752039', '124.353'],\n",
       " ['3150', '7.2', '0.1524', '71.3', '0.00752039', '116.783'],\n",
       " ['4000', '7.2', '0.1524', '71.3', '0.00752039', '119.343'],\n",
       " ['5000', '7.2', '0.1524', '71.3', '0.00752039', '118.343'],\n",
       " ['6300', '7.2', '0.1524', '71.3', '0.00752039', '116.603'],\n",
       " ['8000', '7.2', '0.1524', '71.3', '0.00752039', '113.333'],\n",
       " ['10000', '7.2', '0.1524', '71.3', '0.00752039', '110.313'],\n",
       " ['250', '7.2', '0.1524', '39.6', '0.00909175', '127.488'],\n",
       " ['315', '7.2', '0.1524', '39.6', '0.00909175', '130.558'],\n",
       " ['400', '7.2', '0.1524', '39.6', '0.00909175', '132.118'],\n",
       " ['500', '7.2', '0.1524', '39.6', '0.00909175', '132.658'],\n",
       " ['630', '7.2', '0.1524', '39.6', '0.00909175', '133.198'],\n",
       " ['800', '7.2', '0.1524', '39.6', '0.00909175', '132.358'],\n",
       " ['1000', '7.2', '0.1524', '39.6', '0.00909175', '128.338'],\n",
       " ['1250', '7.2', '0.1524', '39.6', '0.00909175', '122.428'],\n",
       " ['1600', '7.2', '0.1524', '39.6', '0.00909175', '120.058'],\n",
       " ['2000', '7.2', '0.1524', '39.6', '0.00909175', '120.228'],\n",
       " ['2500', '7.2', '0.1524', '39.6', '0.00909175', '117.478'],\n",
       " ['3150', '7.2', '0.1524', '39.6', '0.00909175', '111.818'],\n",
       " ['4000', '7.2', '0.1524', '39.6', '0.00909175', '114.258'],\n",
       " ['5000', '7.2', '0.1524', '39.6', '0.00909175', '113.288'],\n",
       " ['6300', '7.2', '0.1524', '39.6', '0.00909175', '112.688'],\n",
       " ['8000', '7.2', '0.1524', '39.6', '0.00909175', '111.588'],\n",
       " ['10000', '7.2', '0.1524', '39.6', '0.00909175', '110.868'],\n",
       " ['200', '9.9', '0.1524', '71.3', '0.0193001', '134.319'],\n",
       " ['250', '9.9', '0.1524', '71.3', '0.0193001', '135.329'],\n",
       " ['315', '9.9', '0.1524', '71.3', '0.0193001', '135.459'],\n",
       " ['400', '9.9', '0.1524', '71.3', '0.0193001', '135.079'],\n",
       " ['500', '9.9', '0.1524', '71.3', '0.0193001', '131.279'],\n",
       " ['630', '9.9', '0.1524', '71.3', '0.0193001', '129.889'],\n",
       " ['800', '9.9', '0.1524', '71.3', '0.0193001', '128.879'],\n",
       " ['1000', '9.9', '0.1524', '71.3', '0.0193001', '126.349'],\n",
       " ['1250', '9.9', '0.1524', '71.3', '0.0193001', '122.679'],\n",
       " ['1600', '9.9', '0.1524', '71.3', '0.0193001', '121.789'],\n",
       " ['2000', '9.9', '0.1524', '71.3', '0.0193001', '120.779'],\n",
       " ['2500', '9.9', '0.1524', '71.3', '0.0193001', '119.639'],\n",
       " ['3150', '9.9', '0.1524', '71.3', '0.0193001', '116.849'],\n",
       " ['4000', '9.9', '0.1524', '71.3', '0.0193001', '115.079'],\n",
       " ['5000', '9.9', '0.1524', '71.3', '0.0193001', '114.569'],\n",
       " ['6300', '9.9', '0.1524', '71.3', '0.0193001', '112.039'],\n",
       " ['200', '9.9', '0.1524', '55.5', '0.0208438', '131.955'],\n",
       " ['250', '9.9', '0.1524', '55.5', '0.0208438', '133.235'],\n",
       " ['315', '9.9', '0.1524', '55.5', '0.0208438', '132.355'],\n",
       " ['400', '9.9', '0.1524', '55.5', '0.0208438', '131.605'],\n",
       " ['500', '9.9', '0.1524', '55.5', '0.0208438', '127.815'],\n",
       " ['630', '9.9', '0.1524', '55.5', '0.0208438', '127.315'],\n",
       " ['800', '9.9', '0.1524', '55.5', '0.0208438', '126.565'],\n",
       " ['1000', '9.9', '0.1524', '55.5', '0.0208438', '124.665'],\n",
       " ['1250', '9.9', '0.1524', '55.5', '0.0208438', '121.635'],\n",
       " ['1600', '9.9', '0.1524', '55.5', '0.0208438', '119.875'],\n",
       " ['2000', '9.9', '0.1524', '55.5', '0.0208438', '119.505'],\n",
       " ['2500', '9.9', '0.1524', '55.5', '0.0208438', '118.365'],\n",
       " ['3150', '9.9', '0.1524', '55.5', '0.0208438', '115.085'],\n",
       " ['4000', '9.9', '0.1524', '55.5', '0.0208438', '112.945'],\n",
       " ['5000', '9.9', '0.1524', '55.5', '0.0208438', '112.065'],\n",
       " ['6300', '9.9', '0.1524', '55.5', '0.0208438', '110.555'],\n",
       " ['200', '9.9', '0.1524', '39.6', '0.0233328', '127.315'],\n",
       " ['250', '9.9', '0.1524', '39.6', '0.0233328', '128.335'],\n",
       " ['315', '9.9', '0.1524', '39.6', '0.0233328', '128.595'],\n",
       " ['400', '9.9', '0.1524', '39.6', '0.0233328', '128.345'],\n",
       " ['500', '9.9', '0.1524', '39.6', '0.0233328', '126.835'],\n",
       " ['630', '9.9', '0.1524', '39.6', '0.0233328', '126.465'],\n",
       " ['800', '9.9', '0.1524', '39.6', '0.0233328', '126.345'],\n",
       " ['1000', '9.9', '0.1524', '39.6', '0.0233328', '123.835'],\n",
       " ['1250', '9.9', '0.1524', '39.6', '0.0233328', '120.555'],\n",
       " ['1600', '9.9', '0.1524', '39.6', '0.0233328', '118.545'],\n",
       " ['2000', '9.9', '0.1524', '39.6', '0.0233328', '117.925'],\n",
       " ['2500', '9.9', '0.1524', '39.6', '0.0233328', '116.295'],\n",
       " ['3150', '9.9', '0.1524', '39.6', '0.0233328', '113.525'],\n",
       " ['4000', '9.9', '0.1524', '39.6', '0.0233328', '112.265'],\n",
       " ['5000', '9.9', '0.1524', '39.6', '0.0233328', '111.135'],\n",
       " ['6300', '9.9', '0.1524', '39.6', '0.0233328', '109.885'],\n",
       " ['200', '9.9', '0.1524', '31.7', '0.0252785', '127.299'],\n",
       " ['250', '9.9', '0.1524', '31.7', '0.0252785', '128.559'],\n",
       " ['315', '9.9', '0.1524', '31.7', '0.0252785', '128.809'],\n",
       " ['400', '9.9', '0.1524', '31.7', '0.0252785', '128.939'],\n",
       " ['500', '9.9', '0.1524', '31.7', '0.0252785', '127.179'],\n",
       " ['630', '9.9', '0.1524', '31.7', '0.0252785', '126.049'],\n",
       " ['800', '9.9', '0.1524', '31.7', '0.0252785', '125.539'],\n",
       " ['1000', '9.9', '0.1524', '31.7', '0.0252785', '122.149'],\n",
       " ['1250', '9.9', '0.1524', '31.7', '0.0252785', '118.619'],\n",
       " ['1600', '9.9', '0.1524', '31.7', '0.0252785', '117.119'],\n",
       " ['2000', '9.9', '0.1524', '31.7', '0.0252785', '116.859'],\n",
       " ['2500', '9.9', '0.1524', '31.7', '0.0252785', '114.729'],\n",
       " ['3150', '9.9', '0.1524', '31.7', '0.0252785', '112.209'],\n",
       " ['4000', '9.9', '0.1524', '31.7', '0.0252785', '111.459'],\n",
       " ['5000', '9.9', '0.1524', '31.7', '0.0252785', '109.949'],\n",
       " ['6300', '9.9', '0.1524', '31.7', '0.0252785', '108.689'],\n",
       " ['200', '12.6', '0.1524', '71.3', '0.0483159', '128.354'],\n",
       " ['250', '12.6', '0.1524', '71.3', '0.0483159', '129.744'],\n",
       " ['315', '12.6', '0.1524', '71.3', '0.0483159', '128.484'],\n",
       " ['400', '12.6', '0.1524', '71.3', '0.0483159', '127.094'],\n",
       " ['500', '12.6', '0.1524', '71.3', '0.0483159', '121.664'],\n",
       " ['630', '12.6', '0.1524', '71.3', '0.0483159', '123.304'],\n",
       " ['800', '12.6', '0.1524', '71.3', '0.0483159', '123.054'],\n",
       " ['1000', '12.6', '0.1524', '71.3', '0.0483159', '122.044'],\n",
       " ['1250', '12.6', '0.1524', '71.3', '0.0483159', '120.154'],\n",
       " ['1600', '12.6', '0.1524', '71.3', '0.0483159', '120.534'],\n",
       " ['2000', '12.6', '0.1524', '71.3', '0.0483159', '117.504'],\n",
       " ['2500', '12.6', '0.1524', '71.3', '0.0483159', '115.234'],\n",
       " ['3150', '12.6', '0.1524', '71.3', '0.0483159', '113.334'],\n",
       " ['4000', '12.6', '0.1524', '71.3', '0.0483159', '108.034'],\n",
       " ['5000', '12.6', '0.1524', '71.3', '0.0483159', '108.034'],\n",
       " ['6300', '12.6', '0.1524', '71.3', '0.0483159', '107.284'],\n",
       " ['200', '12.6', '0.1524', '39.6', '0.0584113', '114.750'],\n",
       " ['250', '12.6', '0.1524', '39.6', '0.0584113', '115.890'],\n",
       " ['315', '12.6', '0.1524', '39.6', '0.0584113', '116.020'],\n",
       " ['400', '12.6', '0.1524', '39.6', '0.0584113', '115.910'],\n",
       " ['500', '12.6', '0.1524', '39.6', '0.0584113', '114.900'],\n",
       " ['630', '12.6', '0.1524', '39.6', '0.0584113', '116.550'],\n",
       " ['800', '12.6', '0.1524', '39.6', '0.0584113', '116.560'],\n",
       " ['1000', '12.6', '0.1524', '39.6', '0.0584113', '114.670'],\n",
       " ['1250', '12.6', '0.1524', '39.6', '0.0584113', '112.160'],\n",
       " ['1600', '12.6', '0.1524', '39.6', '0.0584113', '110.780'],\n",
       " ['2000', '12.6', '0.1524', '39.6', '0.0584113', '109.520'],\n",
       " ['2500', '12.6', '0.1524', '39.6', '0.0584113', '106.880'],\n",
       " ['3150', '12.6', '0.1524', '39.6', '0.0584113', '106.260'],\n",
       " ['4000', '12.6', '0.1524', '39.6', '0.0584113', '104.500'],\n",
       " ['5000', '12.6', '0.1524', '39.6', '0.0584113', '104.130'],\n",
       " ['6300', '12.6', '0.1524', '39.6', '0.0584113', '103.380'],\n",
       " ['800', '0', '0.0508', '71.3', '0.000740478', '130.960'],\n",
       " ['1000', '0', '0.0508', '71.3', '0.000740478', '129.450'],\n",
       " ['1250', '0', '0.0508', '71.3', '0.000740478', '128.560'],\n",
       " ['1600', '0', '0.0508', '71.3', '0.000740478', '129.680'],\n",
       " ['2000', '0', '0.0508', '71.3', '0.000740478', '131.060'],\n",
       " ['2500', '0', '0.0508', '71.3', '0.000740478', '131.310'],\n",
       " ['3150', '0', '0.0508', '71.3', '0.000740478', '135.070'],\n",
       " ['4000', '0', '0.0508', '71.3', '0.000740478', '134.430'],\n",
       " ['5000', '0', '0.0508', '71.3', '0.000740478', '134.430'],\n",
       " ['6300', '0', '0.0508', '71.3', '0.000740478', '133.040'],\n",
       " ['8000', '0', '0.0508', '71.3', '0.000740478', '130.890'],\n",
       " ['10000', '0', '0.0508', '71.3', '0.000740478', '128.740'],\n",
       " ['12500', '0', '0.0508', '71.3', '0.000740478', '125.220'],\n",
       " ['800', '0', '0.0508', '55.5', '0.00076193', '124.336'],\n",
       " ['1000', '0', '0.0508', '55.5', '0.00076193', '125.586'],\n",
       " ['1250', '0', '0.0508', '55.5', '0.00076193', '127.076'],\n",
       " ['1600', '0', '0.0508', '55.5', '0.00076193', '128.576'],\n",
       " ['2000', '0', '0.0508', '55.5', '0.00076193', '131.456'],\n",
       " ['2500', '0', '0.0508', '55.5', '0.00076193', '133.956'],\n",
       " ['3150', '0', '0.0508', '55.5', '0.00076193', '134.826'],\n",
       " ['4000', '0', '0.0508', '55.5', '0.00076193', '134.946'],\n",
       " ['5000', '0', '0.0508', '55.5', '0.00076193', '134.556'],\n",
       " ['6300', '0', '0.0508', '55.5', '0.00076193', '132.796'],\n",
       " ['8000', '0', '0.0508', '55.5', '0.00076193', '130.156'],\n",
       " ['10000', '0', '0.0508', '55.5', '0.00076193', '127.636'],\n",
       " ['12500', '0', '0.0508', '55.5', '0.00076193', '125.376'],\n",
       " ['800', '0', '0.0508', '39.6', '0.000791822', '126.508'],\n",
       " ['1000', '0', '0.0508', '39.6', '0.000791822', '127.638'],\n",
       " ['1250', '0', '0.0508', '39.6', '0.000791822', '129.148'],\n",
       " ['1600', '0', '0.0508', '39.6', '0.000791822', '130.908'],\n",
       " ['2000', '0', '0.0508', '39.6', '0.000791822', '132.918'],\n",
       " ['2500', '0', '0.0508', '39.6', '0.000791822', '134.938'],\n",
       " ['3150', '0', '0.0508', '39.6', '0.000791822', '135.938'],\n",
       " ['4000', '0', '0.0508', '39.6', '0.000791822', '135.308'],\n",
       " ['5000', '0', '0.0508', '39.6', '0.000791822', '134.308'],\n",
       " ['6300', '0', '0.0508', '39.6', '0.000791822', '131.918'],\n",
       " ['8000', '0', '0.0508', '39.6', '0.000791822', '128.518'],\n",
       " ['10000', '0', '0.0508', '39.6', '0.000791822', '125.998'],\n",
       " ['12500', '0', '0.0508', '39.6', '0.000791822', '123.988'],\n",
       " ['800', '0', '0.0508', '31.7', '0.000812164', '122.790'],\n",
       " ['1000', '0', '0.0508', '31.7', '0.000812164', '126.780'],\n",
       " ['1250', '0', '0.0508', '31.7', '0.000812164', '129.270'],\n",
       " ['1600', '0', '0.0508', '31.7', '0.000812164', '131.010'],\n",
       " ['2000', '0', '0.0508', '31.7', '0.000812164', '133.010'],\n",
       " ['2500', '0', '0.0508', '31.7', '0.000812164', '134.870'],\n",
       " ['3150', '0', '0.0508', '31.7', '0.000812164', '135.490'],\n",
       " ['4000', '0', '0.0508', '31.7', '0.000812164', '134.110'],\n",
       " ['5000', '0', '0.0508', '31.7', '0.000812164', '133.230'],\n",
       " ['6300', '0', '0.0508', '31.7', '0.000812164', '130.340'],\n",
       " ['8000', '0', '0.0508', '31.7', '0.000812164', '126.590'],\n",
       " ['10000', '0', '0.0508', '31.7', '0.000812164', '122.450'],\n",
       " ['12500', '0', '0.0508', '31.7', '0.000812164', '119.070'],\n",
       " ['1600', '4.2', '0.0508', '71.3', '0.00142788', '124.318'],\n",
       " ['2000', '4.2', '0.0508', '71.3', '0.00142788', '129.848'],\n",
       " ['2500', '4.2', '0.0508', '71.3', '0.00142788', '131.978'],\n",
       " ['3150', '4.2', '0.0508', '71.3', '0.00142788', '133.728'],\n",
       " ['4000', '4.2', '0.0508', '71.3', '0.00142788', '133.598'],\n",
       " ['5000', '4.2', '0.0508', '71.3', '0.00142788', '132.828'],\n",
       " ['6300', '4.2', '0.0508', '71.3', '0.00142788', '129.308'],\n",
       " ['8000', '4.2', '0.0508', '71.3', '0.00142788', '125.268'],\n",
       " ['10000', '4.2', '0.0508', '71.3', '0.00142788', '121.238'],\n",
       " ['12500', '4.2', '0.0508', '71.3', '0.00142788', '117.328'],\n",
       " ['1000', '4.2', '0.0508', '39.6', '0.00152689', '125.647'],\n",
       " ['1250', '4.2', '0.0508', '39.6', '0.00152689', '128.427'],\n",
       " ['1600', '4.2', '0.0508', '39.6', '0.00152689', '130.197'],\n",
       " ['2000', '4.2', '0.0508', '39.6', '0.00152689', '132.587'],\n",
       " ['2500', '4.2', '0.0508', '39.6', '0.00152689', '133.847'],\n",
       " ['3150', '4.2', '0.0508', '39.6', '0.00152689', '133.587'],\n",
       " ['4000', '4.2', '0.0508', '39.6', '0.00152689', '131.807'],\n",
       " ['5000', '4.2', '0.0508', '39.6', '0.00152689', '129.777'],\n",
       " ['6300', '4.2', '0.0508', '39.6', '0.00152689', '125.717'],\n",
       " ['8000', '4.2', '0.0508', '39.6', '0.00152689', '120.397'],\n",
       " ['10000', '4.2', '0.0508', '39.6', '0.00152689', '116.967'],\n",
       " ['800', '8.4', '0.0508', '71.3', '0.00529514', '127.556'],\n",
       " ['1000', '8.4', '0.0508', '71.3', '0.00529514', '129.946'],\n",
       " ['1250', '8.4', '0.0508', '71.3', '0.00529514', '132.086'],\n",
       " ['1600', '8.4', '0.0508', '71.3', '0.00529514', '133.846'],\n",
       " ['2000', '8.4', '0.0508', '71.3', '0.00529514', '134.476'],\n",
       " ['2500', '8.4', '0.0508', '71.3', '0.00529514', '134.226'],\n",
       " ['3150', '8.4', '0.0508', '71.3', '0.00529514', '131.966'],\n",
       " ['4000', '8.4', '0.0508', '71.3', '0.00529514', '126.926'],\n",
       " ['5000', '8.4', '0.0508', '71.3', '0.00529514', '121.146'],\n",
       " ['400', '8.4', '0.0508', '55.5', '0.00544854', '121.582'],\n",
       " ['500', '8.4', '0.0508', '55.5', '0.00544854', '123.742'],\n",
       " ['630', '8.4', '0.0508', '55.5', '0.00544854', '126.152'],\n",
       " ['800', '8.4', '0.0508', '55.5', '0.00544854', '128.562'],\n",
       " ['1000', '8.4', '0.0508', '55.5', '0.00544854', '130.722'],\n",
       " ['1250', '8.4', '0.0508', '55.5', '0.00544854', '132.252'],\n",
       " ['1600', '8.4', '0.0508', '55.5', '0.00544854', '133.032'],\n",
       " ['2000', '8.4', '0.0508', '55.5', '0.00544854', '133.042'],\n",
       " ['2500', '8.4', '0.0508', '55.5', '0.00544854', '131.542'],\n",
       " ['3150', '8.4', '0.0508', '55.5', '0.00544854', '128.402'],\n",
       " ['4000', '8.4', '0.0508', '55.5', '0.00544854', '122.612'],\n",
       " ['5000', '8.4', '0.0508', '55.5', '0.00544854', '115.812'],\n",
       " ['400', '8.4', '0.0508', '39.6', '0.00566229', '120.015'],\n",
       " ['500', '8.4', '0.0508', '39.6', '0.00566229', '122.905'],\n",
       " ['630', '8.4', '0.0508', '39.6', '0.00566229', '126.045'],\n",
       " ['800', '8.4', '0.0508', '39.6', '0.00566229', '128.435'],\n",
       " ['1000', '8.4', '0.0508', '39.6', '0.00566229', '130.195'],\n",
       " ['1250', '8.4', '0.0508', '39.6', '0.00566229', '131.205'],\n",
       " ['1600', '8.4', '0.0508', '39.6', '0.00566229', '130.965'],\n",
       " ['2000', '8.4', '0.0508', '39.6', '0.00566229', '129.965'],\n",
       " ['2500', '8.4', '0.0508', '39.6', '0.00566229', '127.465'],\n",
       " ['3150', '8.4', '0.0508', '39.6', '0.00566229', '123.965'],\n",
       " ['4000', '8.4', '0.0508', '39.6', '0.00566229', '118.955'],\n",
       " ['400', '8.4', '0.0508', '31.7', '0.00580776', '120.076'],\n",
       " ['500', '8.4', '0.0508', '31.7', '0.00580776', '122.966'],\n",
       " ['630', '8.4', '0.0508', '31.7', '0.00580776', '125.856'],\n",
       " ['800', '8.4', '0.0508', '31.7', '0.00580776', '128.246'],\n",
       " ['1000', '8.4', '0.0508', '31.7', '0.00580776', '129.516'],\n",
       " ['1250', '8.4', '0.0508', '31.7', '0.00580776', '130.156'],\n",
       " ['1600', '8.4', '0.0508', '31.7', '0.00580776', '129.296'],\n",
       " ['2000', '8.4', '0.0508', '31.7', '0.00580776', '127.686'],\n",
       " ['2500', '8.4', '0.0508', '31.7', '0.00580776', '125.576'],\n",
       " ['3150', '8.4', '0.0508', '31.7', '0.00580776', '122.086'],\n",
       " ['4000', '8.4', '0.0508', '31.7', '0.00580776', '118.106'],\n",
       " ['200', '11.2', '0.0508', '71.3', '0.014072', '125.941'],\n",
       " ['250', '11.2', '0.0508', '71.3', '0.014072', '127.101'],\n",
       " ['315', '11.2', '0.0508', '71.3', '0.014072', '128.381'],\n",
       " ['400', '11.2', '0.0508', '71.3', '0.014072', '129.281'],\n",
       " ['500', '11.2', '0.0508', '71.3', '0.014072', '130.311'],\n",
       " ['630', '11.2', '0.0508', '71.3', '0.014072', '133.611'],\n",
       " ['800', '11.2', '0.0508', '71.3', '0.014072', '136.031'],\n",
       " ['1000', '11.2', '0.0508', '71.3', '0.014072', '136.941'],\n",
       " ['1250', '11.2', '0.0508', '71.3', '0.014072', '136.191'],\n",
       " ['1600', '11.2', '0.0508', '71.3', '0.014072', '135.191'],\n",
       " ['2000', '11.2', '0.0508', '71.3', '0.014072', '133.311'],\n",
       " ['2500', '11.2', '0.0508', '71.3', '0.014072', '130.541'],\n",
       " ['3150', '11.2', '0.0508', '71.3', '0.014072', '127.141'],\n",
       " ['4000', '11.2', '0.0508', '71.3', '0.014072', '122.471'],\n",
       " ['200', '11.2', '0.0508', '39.6', '0.0150478', '125.010'],\n",
       " ['250', '11.2', '0.0508', '39.6', '0.0150478', '126.430'],\n",
       " ['315', '11.2', '0.0508', '39.6', '0.0150478', '128.990'],\n",
       " ['400', '11.2', '0.0508', '39.6', '0.0150478', '130.670'],\n",
       " ['500', '11.2', '0.0508', '39.6', '0.0150478', '131.960'],\n",
       " ['630', '11.2', '0.0508', '39.6', '0.0150478', '133.130'],\n",
       " ['800', '11.2', '0.0508', '39.6', '0.0150478', '133.790'],\n",
       " ['1000', '11.2', '0.0508', '39.6', '0.0150478', '132.430'],\n",
       " ['1250', '11.2', '0.0508', '39.6', '0.0150478', '130.050'],\n",
       " ['1600', '11.2', '0.0508', '39.6', '0.0150478', '126.540'],\n",
       " ['2000', '11.2', '0.0508', '39.6', '0.0150478', '124.420'],\n",
       " ['2500', '11.2', '0.0508', '39.6', '0.0150478', '122.170'],\n",
       " ['3150', '11.2', '0.0508', '39.6', '0.0150478', '119.670'],\n",
       " ['4000', '11.2', '0.0508', '39.6', '0.0150478', '115.520'],\n",
       " ['200', '15.4', '0.0508', '71.3', '0.0264269', '123.595'],\n",
       " ['250', '15.4', '0.0508', '71.3', '0.0264269', '124.835'],\n",
       " ['315', '15.4', '0.0508', '71.3', '0.0264269', '126.195'],\n",
       " ['400', '15.4', '0.0508', '71.3', '0.0264269', '126.805'],\n",
       " ['500', '15.4', '0.0508', '71.3', '0.0264269', '127.285'],\n",
       " ['630', '15.4', '0.0508', '71.3', '0.0264269', '129.645'],\n",
       " ['800', '15.4', '0.0508', '71.3', '0.0264269', '131.515'],\n",
       " ['1000', '15.4', '0.0508', '71.3', '0.0264269', '131.865'],\n",
       " ['1250', '15.4', '0.0508', '71.3', '0.0264269', '130.845'],\n",
       " ['1600', '15.4', '0.0508', '71.3', '0.0264269', '130.065'],\n",
       " ['2000', '15.4', '0.0508', '71.3', '0.0264269', '129.285'],\n",
       " ['2500', '15.4', '0.0508', '71.3', '0.0264269', '127.625'],\n",
       " ['3150', '15.4', '0.0508', '71.3', '0.0264269', '125.715'],\n",
       " ['4000', '15.4', '0.0508', '71.3', '0.0264269', '122.675'],\n",
       " ['5000', '15.4', '0.0508', '71.3', '0.0264269', '119.135'],\n",
       " ['6300', '15.4', '0.0508', '71.3', '0.0264269', '115.215'],\n",
       " ['8000', '15.4', '0.0508', '71.3', '0.0264269', '112.675'],\n",
       " ['200', '15.4', '0.0508', '55.5', '0.0271925', '122.940'],\n",
       " ['250', '15.4', '0.0508', '55.5', '0.0271925', '124.170'],\n",
       " ['315', '15.4', '0.0508', '55.5', '0.0271925', '125.390'],\n",
       " ['400', '15.4', '0.0508', '55.5', '0.0271925', '126.500'],\n",
       " ['500', '15.4', '0.0508', '55.5', '0.0271925', '127.220'],\n",
       " ['630', '15.4', '0.0508', '55.5', '0.0271925', '129.330'],\n",
       " ['800', '15.4', '0.0508', '55.5', '0.0271925', '130.430'],\n",
       " ['1000', '15.4', '0.0508', '55.5', '0.0271925', '130.400'],\n",
       " ['1250', '15.4', '0.0508', '55.5', '0.0271925', '130.000'],\n",
       " ['1600', '15.4', '0.0508', '55.5', '0.0271925', '128.200'],\n",
       " ['2000', '15.4', '0.0508', '55.5', '0.0271925', '127.040'],\n",
       " ['2500', '15.4', '0.0508', '55.5', '0.0271925', '125.630'],\n",
       " ['3150', '15.4', '0.0508', '55.5', '0.0271925', '123.460'],\n",
       " ['4000', '15.4', '0.0508', '55.5', '0.0271925', '120.920'],\n",
       " ['5000', '15.4', '0.0508', '55.5', '0.0271925', '117.110'],\n",
       " ['6300', '15.4', '0.0508', '55.5', '0.0271925', '112.930'],\n",
       " ['200', '15.4', '0.0508', '39.6', '0.0282593', '121.783'],\n",
       " ['250', '15.4', '0.0508', '39.6', '0.0282593', '122.893'],\n",
       " ['315', '15.4', '0.0508', '39.6', '0.0282593', '124.493'],\n",
       " ['400', '15.4', '0.0508', '39.6', '0.0282593', '125.353'],\n",
       " ['500', '15.4', '0.0508', '39.6', '0.0282593', '125.963'],\n",
       " ['630', '15.4', '0.0508', '39.6', '0.0282593', '127.443'],\n",
       " ['800', '15.4', '0.0508', '39.6', '0.0282593', '128.423'],\n",
       " ['1000', '15.4', '0.0508', '39.6', '0.0282593', '127.893'],\n",
       " ['1250', '15.4', '0.0508', '39.6', '0.0282593', '126.743'],\n",
       " ['1600', '15.4', '0.0508', '39.6', '0.0282593', '124.843'],\n",
       " ['2000', '15.4', '0.0508', '39.6', '0.0282593', '123.443'],\n",
       " ['2500', '15.4', '0.0508', '39.6', '0.0282593', '122.413'],\n",
       " ['3150', '15.4', '0.0508', '39.6', '0.0282593', '120.513'],\n",
       " ['4000', '15.4', '0.0508', '39.6', '0.0282593', '118.113'],\n",
       " ['5000', '15.4', '0.0508', '39.6', '0.0282593', '114.453'],\n",
       " ['6300', '15.4', '0.0508', '39.6', '0.0282593', '109.663'],\n",
       " ['200', '15.4', '0.0508', '31.7', '0.0289853', '119.975'],\n",
       " ['250', '15.4', '0.0508', '31.7', '0.0289853', '121.225'],\n",
       " ['315', '15.4', '0.0508', '31.7', '0.0289853', '122.845'],\n",
       " ['400', '15.4', '0.0508', '31.7', '0.0289853', '123.705'],\n",
       " ['500', '15.4', '0.0508', '31.7', '0.0289853', '123.695'],\n",
       " ['630', '15.4', '0.0508', '31.7', '0.0289853', '124.685'],\n",
       " ['800', '15.4', '0.0508', '31.7', '0.0289853', '125.555'],\n",
       " ['1000', '15.4', '0.0508', '31.7', '0.0289853', '124.525'],\n",
       " ['1250', '15.4', '0.0508', '31.7', '0.0289853', '123.255'],\n",
       " ['1600', '15.4', '0.0508', '31.7', '0.0289853', '121.485'],\n",
       " ['2000', '15.4', '0.0508', '31.7', '0.0289853', '120.835'],\n",
       " ['2500', '15.4', '0.0508', '31.7', '0.0289853', '119.945'],\n",
       " ['3150', '15.4', '0.0508', '31.7', '0.0289853', '118.045'],\n",
       " ['4000', '15.4', '0.0508', '31.7', '0.0289853', '115.635'],\n",
       " ['5000', '15.4', '0.0508', '31.7', '0.0289853', '112.355'],\n",
       " ['6300', '15.4', '0.0508', '31.7', '0.0289853', '108.185'],\n",
       " ['200', '19.7', '0.0508', '71.3', '0.0341183', '118.005'],\n",
       " ['250', '19.7', '0.0508', '71.3', '0.0341183', '119.115'],\n",
       " ['315', '19.7', '0.0508', '71.3', '0.0341183', '121.235'],\n",
       " ['400', '19.7', '0.0508', '71.3', '0.0341183', '123.865'],\n",
       " ['500', '19.7', '0.0508', '71.3', '0.0341183', '126.995'],\n",
       " ['630', '19.7', '0.0508', '71.3', '0.0341183', '128.365'],\n",
       " ['800', '19.7', '0.0508', '71.3', '0.0341183', '124.555'],\n",
       " ['1000', '19.7', '0.0508', '71.3', '0.0341183', '121.885'],\n",
       " ['1250', '19.7', '0.0508', '71.3', '0.0341183', '121.485'],\n",
       " ['1600', '19.7', '0.0508', '71.3', '0.0341183', '120.575'],\n",
       " ['2000', '19.7', '0.0508', '71.3', '0.0341183', '120.055'],\n",
       " ['2500', '19.7', '0.0508', '71.3', '0.0341183', '118.385'],\n",
       " ['3150', '19.7', '0.0508', '71.3', '0.0341183', '116.225'],\n",
       " ['4000', '19.7', '0.0508', '71.3', '0.0341183', '113.045'],\n",
       " ['200', '19.7', '0.0508', '39.6', '0.036484', '125.974'],\n",
       " ['250', '19.7', '0.0508', '39.6', '0.036484', '127.224'],\n",
       " ['315', '19.7', '0.0508', '39.6', '0.036484', '129.864'],\n",
       " ['400', '19.7', '0.0508', '39.6', '0.036484', '130.614'],\n",
       " ['500', '19.7', '0.0508', '39.6', '0.036484', '128.444'],\n",
       " ['630', '19.7', '0.0508', '39.6', '0.036484', '120.324'],\n",
       " ['800', '19.7', '0.0508', '39.6', '0.036484', '119.174'],\n",
       " ['1000', '19.7', '0.0508', '39.6', '0.036484', '118.904'],\n",
       " ['1250', '19.7', '0.0508', '39.6', '0.036484', '118.634'],\n",
       " ['1600', '19.7', '0.0508', '39.6', '0.036484', '117.604'],\n",
       " ['2000', '19.7', '0.0508', '39.6', '0.036484', '117.724'],\n",
       " ['2500', '19.7', '0.0508', '39.6', '0.036484', '116.184'],\n",
       " ['3150', '19.7', '0.0508', '39.6', '0.036484', '113.004'],\n",
       " ['4000', '19.7', '0.0508', '39.6', '0.036484', '108.684'],\n",
       " ['2500', '0', '0.0254', '71.3', '0.000400682', '133.707'],\n",
       " ['3150', '0', '0.0254', '71.3', '0.000400682', '137.007'],\n",
       " ['4000', '0', '0.0254', '71.3', '0.000400682', '138.557'],\n",
       " ['5000', '0', '0.0254', '71.3', '0.000400682', '136.837'],\n",
       " ['6300', '0', '0.0254', '71.3', '0.000400682', '134.987'],\n",
       " ['8000', '0', '0.0254', '71.3', '0.000400682', '129.867'],\n",
       " ['10000', '0', '0.0254', '71.3', '0.000400682', '130.787'],\n",
       " ['12500', '0', '0.0254', '71.3', '0.000400682', '133.207'],\n",
       " ['16000', '0', '0.0254', '71.3', '0.000400682', '130.477'],\n",
       " ['20000', '0', '0.0254', '71.3', '0.000400682', '123.217'],\n",
       " ['2000', '0', '0.0254', '55.5', '0.00041229', '127.623'],\n",
       " ['2500', '0', '0.0254', '55.5', '0.00041229', '130.073'],\n",
       " ['3150', '0', '0.0254', '55.5', '0.00041229', '130.503'],\n",
       " ['4000', '0', '0.0254', '55.5', '0.00041229', '133.223'],\n",
       " ['5000', '0', '0.0254', '55.5', '0.00041229', '135.803'],\n",
       " ['6300', '0', '0.0254', '55.5', '0.00041229', '136.103'],\n",
       " ['8000', '0', '0.0254', '55.5', '0.00041229', '136.163'],\n",
       " ['10000', '0', '0.0254', '55.5', '0.00041229', '134.563'],\n",
       " ['12500', '0', '0.0254', '55.5', '0.00041229', '131.453'],\n",
       " ['16000', '0', '0.0254', '55.5', '0.00041229', '125.683'],\n",
       " ['20000', '0', '0.0254', '55.5', '0.00041229', '121.933'],\n",
       " ['1600', '0', '0.0254', '39.6', '0.000428464', '124.156'],\n",
       " ['2000', '0', '0.0254', '39.6', '0.000428464', '130.026'],\n",
       " ['2500', '0', '0.0254', '39.6', '0.000428464', '131.836'],\n",
       " ['3150', '0', '0.0254', '39.6', '0.000428464', '133.276'],\n",
       " ['4000', '0', '0.0254', '39.6', '0.000428464', '135.346'],\n",
       " ['5000', '0', '0.0254', '39.6', '0.000428464', '136.536'],\n",
       " ['6300', '0', '0.0254', '39.6', '0.000428464', '136.826'],\n",
       " ['8000', '0', '0.0254', '39.6', '0.000428464', '135.866'],\n",
       " ['10000', '0', '0.0254', '39.6', '0.000428464', '133.376'],\n",
       " ['12500', '0', '0.0254', '39.6', '0.000428464', '129.116'],\n",
       " ['16000', '0', '0.0254', '39.6', '0.000428464', '124.986'],\n",
       " ['1000', '0', '0.0254', '31.7', '0.000439472', '125.127'],\n",
       " ['1250', '0', '0.0254', '31.7', '0.000439472', '127.947'],\n",
       " ['1600', '0', '0.0254', '31.7', '0.000439472', '129.267'],\n",
       " ['2000', '0', '0.0254', '31.7', '0.000439472', '130.697'],\n",
       " ['2500', '0', '0.0254', '31.7', '0.000439472', '132.897'],\n",
       " ['3150', '0', '0.0254', '31.7', '0.000439472', '135.227'],\n",
       " ...]"
      ]
     },
     "execution_count": 63,
     "metadata": {},
     "output_type": "execute_result"
    }
   ],
   "source": [
    "[i.strip().split() for i in open(\"./airfoil_data/airfoil_self_noise.dat\").readlines()]"
   ]
  },
  {
   "cell_type": "code",
   "execution_count": 52,
   "metadata": {},
   "outputs": [],
   "source": [
    "# write it as a new CSV file\n",
    "header =[\"a\" , \"b\" , \"c\" , \"d\" , \"e\" , \"f\"]\n",
    "with open(\"raw_data/airfoil_self_noise.csv\", \"w\") as f:\n",
    "    writer = csv.writer(f)\n",
    "    writer.writerow(header)\n",
    "    writer.writerows(datContent)"
   ]
  },
  {
   "cell_type": "code",
   "execution_count": 22,
   "metadata": {},
   "outputs": [],
   "source": [
    "from sklearn.model_selection import train_test_split"
   ]
  },
  {
   "cell_type": "code",
   "execution_count": 28,
   "metadata": {},
   "outputs": [
    {
     "name": "stderr",
     "output_type": "stream",
     "text": [
      "Matplotlib is building the font cache; this may take a moment.\n"
     ]
    }
   ],
   "source": [
    "import matplotlib.pyplot as plt"
   ]
  },
  {
   "cell_type": "code",
   "execution_count": null,
   "metadata": {},
   "outputs": [],
   "source": [
    "[ 31.7, 39.6, 55.5,71.3]"
   ]
  },
  {
   "cell_type": "code",
   "execution_count": 42,
   "metadata": {},
   "outputs": [],
   "source": [
    "data['dummy']=pd.cut(data['Free-stream velocity'] , bins=[ 31.7, 39.6, 55.5,71.3] , labels=[1,2,3])"
   ]
  },
  {
   "cell_type": "code",
   "execution_count": 45,
   "metadata": {},
   "outputs": [
    {
     "data": {
      "text/plain": [
       "1    480\n",
       "3    465\n",
       "2    277\n",
       "Name: dummy, dtype: int64"
      ]
     },
     "execution_count": 45,
     "metadata": {},
     "output_type": "execute_result"
    }
   ],
   "source": [
    "data['dummy'].value_counts()"
   ]
  },
  {
   "cell_type": "code",
   "execution_count": 46,
   "metadata": {},
   "outputs": [
    {
     "data": {
      "image/png": "[encoded data removed]",
      "text/plain": [
       "<Figure size 432x288 with 1 Axes>"
      ]
     },
     "metadata": {},
     "output_type": "display_data"
    }
   ],
   "source": [
    "plt.pie(data['dummy'].value_counts() , labels=data['dummy'].value_counts().value_counts().index)\n",
    "plt.Figure(figsize=(20,20))\n",
    "plt.show()"
   ]
  },
  {
   "cell_type": "code",
   "execution_count": 1,
   "metadata": {},
   "outputs": [],
   "source": [
    "import pandas as pd"
   ]
  },
  {
   "cell_type": "code",
   "execution_count": 23,
   "metadata": {},
   "outputs": [],
   "source": [
    "train_file , test_file = train_test_split(data ,test_size=0.2 )"
   ]
  },
  {
   "cell_type": "code",
   "execution_count": 48,
   "metadata": {},
   "outputs": [],
   "source": [
    "from sklearn.model_selection import StratifiedShuffleSplit"
   ]
  },
  {
   "cell_type": "code",
   "execution_count": null,
   "metadata": {},
   "outputs": [],
   "source": [
    "data['val']"
   ]
  },
  {
   "cell_type": "code",
   "execution_count": 27,
   "metadata": {},
   "outputs": [
    {
     "data": {
      "text/plain": [
       "Frequency  Angle of attack  Chord length  Free-stream velocity  Section side displacement thickness  Scaled Sound Pressure Level\n",
       "20000      4.8              0.0254        71.3                  0.000849                             119.708                        1\n",
       "1000       4.0              0.2286        31.7                  0.005091                             129.869                        1\n",
       "                                          55.5                  0.004286                             132.134                        1\n",
       "                                          71.3                  0.004006                             131.708                        1\n",
       "                            0.3048        71.3                  0.004978                             131.015                        1\n",
       "                                                                                                                                   ..\n",
       "3150       4.0              0.2286        55.5                  0.004286                             122.394                        1\n",
       "                                          71.3                  0.004006                             124.108                        1\n",
       "                            0.3048        39.6                  0.005796                             118.743                        1\n",
       "                                          71.3                  0.004978                             121.775                        1\n",
       "200        0.0              0.3048        31.7                  0.003313                             117.195                        1\n",
       "Length: 1202, dtype: int64"
      ]
     },
     "execution_count": 27,
     "metadata": {},
     "output_type": "execute_result"
    }
   ],
   "source": [
    "train_file.value_counts()"
   ]
  },
  {
   "cell_type": "code",
   "execution_count": 3,
   "metadata": {},
   "outputs": [
    {
     "data": {
      "text/html": [
       "<div>\n",
       "<style scoped>\n",
       "    .dataframe tbody tr th:only-of-type {\n",
       "        vertical-align: middle;\n",
       "    }\n",
       "\n",
       "    .dataframe tbody tr th {\n",
       "        vertical-align: top;\n",
       "    }\n",
       "\n",
       "    .dataframe thead th {\n",
       "        text-align: right;\n",
       "    }\n",
       "</style>\n",
       "<table border=\"1\" class=\"dataframe\">\n",
       "  <thead>\n",
       "    <tr style=\"text-align: right;\">\n",
       "      <th></th>\n",
       "      <th>a</th>\n",
       "      <th>b</th>\n",
       "      <th>c</th>\n",
       "      <th>d</th>\n",
       "      <th>e</th>\n",
       "      <th>f</th>\n",
       "    </tr>\n",
       "  </thead>\n",
       "  <tbody>\n",
       "    <tr>\n",
       "      <th>0</th>\n",
       "      <td>800</td>\n",
       "      <td>0.0</td>\n",
       "      <td>0.3048</td>\n",
       "      <td>71.3</td>\n",
       "      <td>0.002663</td>\n",
       "      <td>126.201</td>\n",
       "    </tr>\n",
       "    <tr>\n",
       "      <th>1</th>\n",
       "      <td>1000</td>\n",
       "      <td>0.0</td>\n",
       "      <td>0.3048</td>\n",
       "      <td>71.3</td>\n",
       "      <td>0.002663</td>\n",
       "      <td>125.201</td>\n",
       "    </tr>\n",
       "    <tr>\n",
       "      <th>2</th>\n",
       "      <td>1250</td>\n",
       "      <td>0.0</td>\n",
       "      <td>0.3048</td>\n",
       "      <td>71.3</td>\n",
       "      <td>0.002663</td>\n",
       "      <td>125.951</td>\n",
       "    </tr>\n",
       "    <tr>\n",
       "      <th>3</th>\n",
       "      <td>1600</td>\n",
       "      <td>0.0</td>\n",
       "      <td>0.3048</td>\n",
       "      <td>71.3</td>\n",
       "      <td>0.002663</td>\n",
       "      <td>127.591</td>\n",
       "    </tr>\n",
       "    <tr>\n",
       "      <th>4</th>\n",
       "      <td>2000</td>\n",
       "      <td>0.0</td>\n",
       "      <td>0.3048</td>\n",
       "      <td>71.3</td>\n",
       "      <td>0.002663</td>\n",
       "      <td>127.461</td>\n",
       "    </tr>\n",
       "    <tr>\n",
       "      <th>...</th>\n",
       "      <td>...</td>\n",
       "      <td>...</td>\n",
       "      <td>...</td>\n",
       "      <td>...</td>\n",
       "      <td>...</td>\n",
       "      <td>...</td>\n",
       "    </tr>\n",
       "    <tr>\n",
       "      <th>1498</th>\n",
       "      <td>2500</td>\n",
       "      <td>15.6</td>\n",
       "      <td>0.1016</td>\n",
       "      <td>39.6</td>\n",
       "      <td>0.052849</td>\n",
       "      <td>110.264</td>\n",
       "    </tr>\n",
       "    <tr>\n",
       "      <th>1499</th>\n",
       "      <td>3150</td>\n",
       "      <td>15.6</td>\n",
       "      <td>0.1016</td>\n",
       "      <td>39.6</td>\n",
       "      <td>0.052849</td>\n",
       "      <td>109.254</td>\n",
       "    </tr>\n",
       "    <tr>\n",
       "      <th>1500</th>\n",
       "      <td>4000</td>\n",
       "      <td>15.6</td>\n",
       "      <td>0.1016</td>\n",
       "      <td>39.6</td>\n",
       "      <td>0.052849</td>\n",
       "      <td>106.604</td>\n",
       "    </tr>\n",
       "    <tr>\n",
       "      <th>1501</th>\n",
       "      <td>5000</td>\n",
       "      <td>15.6</td>\n",
       "      <td>0.1016</td>\n",
       "      <td>39.6</td>\n",
       "      <td>0.052849</td>\n",
       "      <td>106.224</td>\n",
       "    </tr>\n",
       "    <tr>\n",
       "      <th>1502</th>\n",
       "      <td>6300</td>\n",
       "      <td>15.6</td>\n",
       "      <td>0.1016</td>\n",
       "      <td>39.6</td>\n",
       "      <td>0.052849</td>\n",
       "      <td>104.204</td>\n",
       "    </tr>\n",
       "  </tbody>\n",
       "</table>\n",
       "<p>1503 rows × 6 columns</p>\n",
       "</div>"
      ],
      "text/plain": [
       "         a     b       c     d         e        f\n",
       "0      800   0.0  0.3048  71.3  0.002663  126.201\n",
       "1     1000   0.0  0.3048  71.3  0.002663  125.201\n",
       "2     1250   0.0  0.3048  71.3  0.002663  125.951\n",
       "3     1600   0.0  0.3048  71.3  0.002663  127.591\n",
       "4     2000   0.0  0.3048  71.3  0.002663  127.461\n",
       "...    ...   ...     ...   ...       ...      ...\n",
       "1498  2500  15.6  0.1016  39.6  0.052849  110.264\n",
       "1499  3150  15.6  0.1016  39.6  0.052849  109.254\n",
       "1500  4000  15.6  0.1016  39.6  0.052849  106.604\n",
       "1501  5000  15.6  0.1016  39.6  0.052849  106.224\n",
       "1502  6300  15.6  0.1016  39.6  0.052849  104.204\n",
       "\n",
       "[1503 rows x 6 columns]"
      ]
     },
     "execution_count": 3,
     "metadata": {},
     "output_type": "execute_result"
    }
   ],
   "source": [
    "pd.read_csv(\"C:/Users/somit/Downloads/project_ineuron/machine_learning_02/notebook/raw_data/airfoil_self_noise.csv\" )"
   ]
  },
  {
   "cell_type": "code",
   "execution_count": 4,
   "metadata": {},
   "outputs": [],
   "source": [
    "data = pd.read_csv(\"C:/Users/somit/Downloads/project_ineuron/machine_learning_02/notebook/raw_data/airfoil_self_noise.csv\" )"
   ]
  },
  {
   "cell_type": "code",
   "execution_count": 5,
   "metadata": {},
   "outputs": [],
   "source": [
    "data = data.rename(columns={\"a\": 'Frequency',\"b\":'Angle of attack',\"c\":'Chord length',\"d\":'Free-stream velocity',\"e\":\"Section side displacement thickness\",\"f\":\"Scaled Sound Pressure Level\"})"
   ]
  },
  {
   "cell_type": "code",
   "execution_count": 37,
   "metadata": {},
   "outputs": [
    {
     "data": {
      "text/plain": [
       "array([71.3, 55.5, 39.6, 31.7])"
      ]
     },
     "execution_count": 37,
     "metadata": {},
     "output_type": "execute_result"
    }
   ],
   "source": [
    "data['Free-stream velocity'].unique()"
   ]
  },
  {
   "cell_type": "code",
   "execution_count": 19,
   "metadata": {},
   "outputs": [
    {
     "ename": "ValueError",
     "evalue": "The truth value of a Series is ambiguous. Use a.empty, a.bool(), a.item(), a.any() or a.all().",
     "output_type": "error",
     "traceback": [
      "\u001b[1;31m---------------------------------------------------------------------------\u001b[0m",
      "\u001b[1;31mValueError\u001b[0m                                Traceback (most recent call last)",
      "\u001b[1;32m~\\AppData\\Local\\Temp\\ipykernel_10088\\1392525113.py\u001b[0m in \u001b[0;36m<module>\u001b[1;34m\u001b[0m\n\u001b[1;32m----> 1\u001b[1;33m \u001b[0mdata\u001b[0m\u001b[1;33m[\u001b[0m\u001b[0mdata\u001b[0m\u001b[1;33m[\u001b[0m\u001b[1;34m'Angle of attack'\u001b[0m\u001b[1;33m]\u001b[0m \u001b[1;33m==\u001b[0m  \u001b[1;36m3.0\u001b[0m \u001b[1;32mand\u001b[0m \u001b[0mdata\u001b[0m\u001b[1;33m[\u001b[0m\u001b[1;34m'Free-stream velocity'\u001b[0m\u001b[1;33m]\u001b[0m\u001b[1;33m==\u001b[0m\u001b[1;36m71.3\u001b[0m\u001b[1;33m]\u001b[0m\u001b[1;33m\u001b[0m\u001b[0m\n\u001b[0m",
      "\u001b[1;32mc:\\Users\\somit\\Downloads\\project_ineuron\\practise_project_1\\venv\\lib\\site-packages\\pandas\\core\\generic.py\u001b[0m in \u001b[0;36m__nonzero__\u001b[1;34m(self)\u001b[0m\n\u001b[0;32m   1328\u001b[0m     \u001b[1;32mdef\u001b[0m \u001b[0m__nonzero__\u001b[0m\u001b[1;33m(\u001b[0m\u001b[0mself\u001b[0m\u001b[1;33m)\u001b[0m\u001b[1;33m:\u001b[0m\u001b[1;33m\u001b[0m\u001b[0m\n\u001b[0;32m   1329\u001b[0m         raise ValueError(\n\u001b[1;32m-> 1330\u001b[1;33m             \u001b[1;34mf\"The truth value of a {type(self).__name__} is ambiguous. \"\u001b[0m\u001b[1;33m\u001b[0m\u001b[0m\n\u001b[0m\u001b[0;32m   1331\u001b[0m             \u001b[1;34m\"Use a.empty, a.bool(), a.item(), a.any() or a.all().\"\u001b[0m\u001b[1;33m\u001b[0m\u001b[0m\n\u001b[0;32m   1332\u001b[0m         )\n",
      "\u001b[1;31mValueError\u001b[0m: The truth value of a Series is ambiguous. Use a.empty, a.bool(), a.item(), a.any() or a.all()."
     ]
    }
   ],
   "source": []
  },
  {
   "cell_type": "code",
   "execution_count": 13,
   "metadata": {},
   "outputs": [],
   "source": [
    "from sklearn.model_selection import StratifiedShuffleSplit"
   ]
  },
  {
   "cell_type": "code",
   "execution_count": null,
   "metadata": {},
   "outputs": [],
   "source": [
    "data['val'] = pd.cut(data['Scaled Sound Pressure Level'] ,bins=[71.3, 55.5, 39.6, 31.7] , labels=[1,2,3])"
   ]
  },
  {
   "cell_type": "code",
   "execution_count": 3,
   "metadata": {},
   "outputs": [],
   "source": [
    "os.chdir(\"C:\\\\Users\\somit\\Downloads\\project_ineuron\\machine_learning_02\")"
   ]
  },
  {
   "cell_type": "code",
   "execution_count": 6,
   "metadata": {},
   "outputs": [],
   "source": [
    "from Airfoil_prediction.config.configuration import Configuration\n",
    "from Airfoil_prediction.constant import *\n",
    "from Airfoil_prediction."
   ]
  },
  {
   "cell_type": "code",
   "execution_count": 12,
   "metadata": {},
   "outputs": [],
   "source": [
    "config = Configuration(\"C:\\\\Users\\somit\\Downloads\\project_ineuron\\machine_learning_02\\config\\config.yaml\")"
   ]
  },
  {
   "cell_type": "code",
   "execution_count": 14,
   "metadata": {},
   "outputs": [
    {
     "data": {
      "text/plain": [
       "'C:\\\\Users\\\\somit\\\\Downloads\\\\project_ineuron\\\\machine_learning_02\\\\Airfoil_prediction\\\\artifact'"
      ]
     },
     "execution_count": 14,
     "metadata": {},
     "output_type": "execute_result"
    }
   ],
   "source": [
    "config.training_pipeline_config.artifact_dir"
   ]
  },
  {
   "cell_type": "code",
   "execution_count": 19,
   "metadata": {},
   "outputs": [
    {
     "data": {
      "text/plain": [
       "'airfoil_self_noise.csv'"
      ]
     },
     "execution_count": 19,
     "metadata": {},
     "output_type": "execute_result"
    }
   ],
   "source": [
    "os.listdir(\"C:\\\\Users\\\\somit\\\\Downloads\\\\project_ineuron\\\\machine_learning_02\\Airfoil_prediction\\\\artifact\\data_ingestion\\\\2022-09-21-23-25-35\\\\raw_data\")[0]"
   ]
  },
  {
   "cell_type": "code",
   "execution_count": null,
   "metadata": {},
   "outputs": [],
   "source": []
  }
 ],
 "metadata": {
  "kernelspec": {
   "display_name": "Python 3.7.0",
   "language": "python",
   "name": "python3"
  },
  "language_info": {
   "codemirror_mode": {
    "name": "ipython",
    "version": 3
   },
   "file_extension": ".py",
   "mimetype": "text/x-python",
   "name": "python",
   "nbconvert_exporter": "python",
   "pygments_lexer": "ipython3",
   "version": "3.7.0"
  },
  "orig_nbformat": 4,
  "vscode": {
   "interpreter": {
    "hash": "e4355ed9bbe88b339a4b7ee4efd18ac4cefd315ce47e786fbd359cde78dc1aa6"
   }
  }
 },
 "nbformat": 4,
 "nbformat_minor": 2
}
